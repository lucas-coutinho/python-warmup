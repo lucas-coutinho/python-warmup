{
 "metadata": {
  "language_info": {
   "codemirror_mode": {
    "name": "ipython",
    "version": 3
   },
   "file_extension": ".py",
   "mimetype": "text/x-python",
   "name": "python",
   "nbconvert_exporter": "python",
   "pygments_lexer": "ipython3",
   "version": "3.7.6"
  },
  "orig_nbformat": 2,
  "kernelspec": {
   "name": "python376jvsc74a57bd0eec8eac285937831eaf55a324af314c8014d3f32e7d5b9fc0a7fa4a8002b4eb4",
   "display_name": "Python 3.7.6 64-bit ('base': conda)"
  },
  "metadata": {
   "interpreter": {
    "hash": "eec8eac285937831eaf55a324af314c8014d3f32e7d5b9fc0a7fa4a8002b4eb4"
   }
  }
 },
 "nbformat": 4,
 "nbformat_minor": 2,
 "cells": [
  {
   "cell_type": "code",
   "execution_count": null,
   "metadata": {},
   "outputs": [],
   "source": [
    "from modules import *"
   ]
  },
  {
   "cell_type": "code",
   "execution_count": 6,
   "metadata": {},
   "outputs": [],
   "source": [
    "header ='movie id | movie title | release date | video release date | IMDb URL | unknown | Action | Adventure | Animation | Childrens | Comedy | Crime | Documentary | Drama | Fantasy | Film-Noir | Horror | Musical | Mystery | Romance | Sci-Fi | Thriller | War | Western'.split(' | ')\n",
    "filmes = DataFrame('ml-100k/u.item', '|', header )\n",
    "\n",
    "header='user id | item id | rating | timestamp'.split(' | ')\n",
    "dataset = DataFrame('ml-100k/u.data', '\\t', header)"
   ]
  },
  {
   "cell_type": "code",
   "execution_count": 107,
   "metadata": {
    "tags": []
   },
   "outputs": [],
   "source": [
    "matrix = [[0]*1682 for _ in range(943)]\n",
    "\n",
    "for user, item, rating, _ in dataset.loc:\n",
    "    user_int = int(user)\n",
    "    user_int -= 1\n",
    "\n",
    "    item_int = int(item)\n",
    "    item_int -= 1\n",
    "\n",
    "    matrix[user_int][item_int] = float(rating)"
   ]
  },
  {
   "cell_type": "code",
   "execution_count": 76,
   "metadata": {},
   "outputs": [],
   "source": [
    "def cos_sim(point1, point2) -> float:\n",
    "    def dot(point1,  point2) -> float:\n",
    "        pointwise_mult=[point1[a]*point2[a] for a in range(len(point1))]\n",
    "        return pointwise_mult\n",
    "\n",
    "    def mod(point) -> float:\n",
    "        return (sum([x**2 for x in point]))**(1/2)\n",
    "\n",
    "    return sum(dot(point1, point2))/(mod(point1)*mod(point2))\n",
    "\n",
    "def diff(point1, point2) -> float:\n",
    "    return sum([point1[i] - point2[i] for i in range(len(point1))])"
   ]
  },
  {
   "cell_type": "code",
   "execution_count": 189,
   "metadata": {},
   "outputs": [],
   "source": [
    "user_query = matrix[0]\n",
    "\n",
    "distances = {}\n",
    "for i, user in enumerate(matrix):\n",
    "    distances[i] = cos_sim(user_query,user)\n"
   ]
  },
  {
   "cell_type": "code",
   "execution_count": 190,
   "metadata": {},
   "outputs": [],
   "source": [
    "top5sim = sorted(distances.items(), key=lambda x: x[1])[-6:-1]"
   ]
  },
  {
   "source": [
    "# Filmes recomendados para voce"
   ],
   "cell_type": "markdown",
   "metadata": {}
  },
  {
   "cell_type": "code",
   "execution_count": 192,
   "metadata": {
    "tags": []
   },
   "outputs": [
    {
     "output_type": "stream",
     "name": "stdout",
     "text": [
      "user 434 recomendou esse filme: 462\nuser 91 recomendou esse filme: 313\nuser 267 recomendou esse filme: 483\nuser 863 recomendou esse filme: 408\nuser 915 recomendou esse filme: 512\n"
     ]
    }
   ],
   "source": [
    "query = dataset.loc[dataset['user id'] == '1']\n",
    "\n",
    "for user, rating in top5sim:\n",
    "    films=dataset.loc[dataset['user id'] == str(user+1)]\n",
    "\n",
    "    films = films[list(map(lambda x: not x, (films[:,1] == query[:,1])))]\n",
    "    films_rating = {film: rating for _, film, rating, _ in films}\n",
    "    best_rating = max(films_rating.items(), key= lambda x: float(x[1]))\n",
    "\n",
    "    print('user {} recomendou esse filme: {}'.format(user, best_rating[0]))\n",
    "\n"
   ]
  },
  {
   "cell_type": "code",
   "execution_count": 193,
   "metadata": {},
   "outputs": [],
   "source": [
    "matrix = [[0]*943 for _ in range(1682)]\n",
    "\n",
    "for user, item, rating, _ in dataset.loc:\n",
    "    user_int = int(user)\n",
    "    user_int -= 1\n",
    "\n",
    "    item_int = int(item)\n",
    "    item_int -= 1\n",
    "\n",
    "    matrix[item_int][user_int] = float(rating)"
   ]
  },
  {
   "cell_type": "code",
   "execution_count": 194,
   "metadata": {},
   "outputs": [],
   "source": [
    "film_query = matrix[0]\n",
    "\n",
    "distances = {}\n",
    "for i, film in enumerate(matrix):\n",
    "    distances[i] = cos_sim(film_query,film)\n"
   ]
  },
  {
   "cell_type": "code",
   "execution_count": 202,
   "metadata": {},
   "outputs": [],
   "source": [
    "top5sim = sorted(distances.items(), key=lambda x: x[1])[-6:-1]"
   ]
  },
  {
   "cell_type": "code",
   "execution_count": 203,
   "metadata": {},
   "outputs": [
    {
     "output_type": "execute_result",
     "data": {
      "text/plain": [
       "[(404, 0.6413217603411474),\n",
       " (116, 0.6645547887084217),\n",
       " (120, 0.6897856040758552),\n",
       " (180, 0.6999249712920796),\n",
       " (49, 0.7345720560109743)]"
      ]
     },
     "metadata": {},
     "execution_count": 203
    }
   ],
   "source": [
    "top5sim"
   ]
  },
  {
   "cell_type": "code",
   "execution_count": 204,
   "metadata": {},
   "outputs": [],
   "source": [
    "def pearson_corr(point1, point2) -> float:\n",
    "    def dot(point1,  point2) -> float:\n",
    "        u1 = mean(point1)\n",
    "        u2 = mean(point2)\n",
    "        pointwise_mult=[(point1[a] - u1)  * ( point2[a] - u2) for a in range(len(point1))]\n",
    "        return pointwise_mult\n",
    "\n",
    "    def mod(point) -> float:\n",
    "        u = mean(point)\n",
    "        return (sum([(x - u)**2 for x in point]))**(1/2)\n",
    "\n",
    "    return sum(dot(point1, point2))/(mod(point1)*mod(point2))\n",
    "\n",
    "def diff(point1, point2) -> float:\n",
    "    return sum([point1[i] - point2[i] for i in range(len(point1))])"
   ]
  },
  {
   "cell_type": "code",
   "execution_count": 207,
   "metadata": {},
   "outputs": [],
   "source": [
    "film_query = matrix[0]\n",
    "\n",
    "distances = {}\n",
    "for i, film in enumerate(matrix):\n",
    "    distances[i] = pearson_corr(film_query,film)"
   ]
  },
  {
   "cell_type": "code",
   "execution_count": 208,
   "metadata": {},
   "outputs": [
    {
     "output_type": "execute_result",
     "data": {
      "text/plain": [
       "[(180, 0.42299076532503005),\n",
       " (150, 0.42397458985392145),\n",
       " (116, 0.4317887774912175),\n",
       " (120, 0.4545443387807856),\n",
       " (49, 0.45767718539145097)]"
      ]
     },
     "metadata": {},
     "execution_count": 208
    }
   ],
   "source": [
    "top5sim = sorted(distances.items(), key=lambda x: x[1])[-6:-1]\n",
    "top5sim"
   ]
  }
 ]
}