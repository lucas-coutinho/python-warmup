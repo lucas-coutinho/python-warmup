{
 "metadata": {
  "language_info": {
   "codemirror_mode": {
    "name": "ipython",
    "version": 3
   },
   "file_extension": ".py",
   "mimetype": "text/x-python",
   "name": "python",
   "nbconvert_exporter": "python",
   "pygments_lexer": "ipython3",
   "version": "3.7.6"
  },
  "orig_nbformat": 2,
  "kernelspec": {
   "name": "python376jvsc74a57bd0eec8eac285937831eaf55a324af314c8014d3f32e7d5b9fc0a7fa4a8002b4eb4",
   "display_name": "Python 3.7.6 64-bit ('base': conda)"
  },
  "metadata": {
   "interpreter": {
    "hash": "eec8eac285937831eaf55a324af314c8014d3f32e7d5b9fc0a7fa4a8002b4eb4"
   }
  }
 },
 "nbformat": 4,
 "nbformat_minor": 2,
 "cells": [
  {
   "source": [
    "# Run the cell bellow just once"
   ],
   "cell_type": "markdown",
   "metadata": {}
  },
  {
   "cell_type": "code",
   "execution_count": 85,
   "metadata": {},
   "outputs": [],
   "source": [
    "#!unzip /home/coutinho/Downloads/ml-100k.zip"
   ]
  },
  {
   "source": [
    "## Task Description\n",
    "\n",
    "1.   O(s) usuário(s) mais crítico(s) na avaliação de filmes.   Encontrar aquele id cujas notas são, em média, as menores;\n",
    "\n",
    "2.    O(s) filme(s) mais mal avaliado(s) pelos usuários.\n",
    "\n",
    "3.    O(s) filme(s) mais bem avaliado(s) pelos usuários.\n",
    "\n",
    "4.    Média de avaliação para cada gênero de filmes;\n",
    "\n",
    "5.    Avaliação média de filmes por ano.\n",
    "\n",
    "    -        Listar qual o ano com a melhor média de avaliação de filmes;\n",
    "\n",
    "6.    Qual a ocupação mais propensa a dar más avaliações a filmes;\n",
    "\n",
    "    -      Encontrar a média de avaliação para cada ocupação de usuário e mostrar os menores e maiores valores\n"
   ],
   "cell_type": "markdown",
   "metadata": {}
  },
  {
   "source": [
    "# Helper Functions\n",
    "## The task constrains the solution up to the standard python libray\n",
    "\n",
    "- idea 1: desing a handler class to load and iterate through the dataset"
   ],
   "cell_type": "markdown",
   "metadata": {}
  },
  {
   "cell_type": "code",
   "execution_count": 86,
   "metadata": {},
   "outputs": [],
   "source": [
    "class _Datasettype(list):\n",
    "    \"\"\"Wrapper mimics the functionality of Series in the pandas package. \n",
    "    \n",
    "    Data struct wraps the loaded dataset into a customized container.\n",
    "\n",
    "    Example:\n",
    "        >>>ds = _Datasettype([[1,2,3,4,5,6],\n",
    "                              [4,3,2,4,5,1]] \n",
    "                            )\n",
    "        >>>ds[0, 2]\n",
    "        >>>ds=modules._Datasettype(    [[1,2,3,4,5,6],\n",
    "                                        [4,3,2,4,5,1],\n",
    "                                        [4,3,2,4,5,1],\n",
    "                                        [4,3,2,4,5,1],\n",
    "                                        [4,3,2,4,5,1],\n",
    "                                        [4,3,2,4,5,1],\n",
    "                                        [4,3,2,4,5,1]])\n",
    "        >>>ds[0,2]\n",
    "        >>>[3]\n",
    "        >>>ds[0:4,2]\n",
    "        >>>[3, 2, 2, 2]\n",
    "        >>>ds[0,2:4]\n",
    "        >>>[[3, 4]]\n",
    "\n",
    "        ..note:\n",
    "            This wrapper implements `in`, `len(.)`, `==`, `[idx]`, `[idx1, idx2]`, `[start1:stop1, start2:stop2]`\n",
    "    \"\"\"\n",
    "    def __init__(self, data: list):\n",
    "        self._data=data\n",
    "        super().__init__(self)\n",
    "        \n",
    "    def __contains__(self, obj):\n",
    "        return [obj in \"\".join(x) for x in self._data]\n",
    "\n",
    "    def __eq__(self, obj):\n",
    "        if isinstance(obj, list):\n",
    "            obj = list(map(lambda x: \"\".join(x),obj))\n",
    "            return [x in obj  for x in self._data]\n",
    "        return [x == obj  for x in self._data]\n",
    "\n",
    "    def __iter__(self):\n",
    "        #return iter([self[idx] for idx in range(len(self))])\n",
    "        return iter(self._data)\n",
    "    \n",
    "    def __len__(self) -> int:\n",
    "        return len(self._data)\n",
    "           \n",
    "    def __getitem__(self, idx: int) -> int:\n",
    "\n",
    "        if isinstance(idx, tuple):\n",
    "            _slice1=idx[0]\n",
    "            _slice2=idx[1]\n",
    "\n",
    "            if isinstance(_slice1, int):\n",
    "                return _Datasettype([self._data[_slice1][_slice2]])\n",
    "            if isinstance(_slice2, int):\n",
    "                return _Datasettype(list(map(lambda x: x[_slice2], self._data[_slice1])))\n",
    "            \n",
    "                \n",
    "            return _Datasettype([x[_slice2] for x in self._data[_slice1]])\n",
    "\n",
    "        elif isinstance(idx, list):\n",
    "\n",
    "            _selected_content=[]\n",
    "\n",
    "            for i, boolean in enumerate(idx):\n",
    "                if boolean:\n",
    "                    _selected_content.append(self._data[i])\n",
    "\n",
    "            return _Datasettype(_selected_content)\n",
    "        else:    \n",
    "            return _Datasettype(self._data[idx])\n",
    "\n",
    "\n",
    "class DataFrame(_Datasettype):\n",
    "    \"\"\"Handler class trying to mimic DataFrame class\n",
    "\n",
    "    Args:\n",
    "        path (string): path to where the dataset is saved.\n",
    "\n",
    "    Properties:\n",
    "        loc (_Datatype): raw data in _Datatype type.\n",
    "    \n",
    "    \"\"\"\n",
    "    def __init__(self, path: str, separator: str, columns: list):\n",
    "        \n",
    "        self._path=path\n",
    "        self._separator=separator\n",
    "        self._columns=columns\n",
    "        self._raw_data=self.load()\n",
    "        self._data=self._set_header()\n",
    "        \n",
    "    @property\n",
    "    def loc(self) -> _Datasettype:\n",
    "        return self._raw_data\n",
    "    \n",
    "    def __len__(self) -> int:\n",
    "        return len(self._raw_data)\n",
    "\n",
    "    def _set_header(self) -> dict:\n",
    "        return {key: self._raw_data[:,i] for i, key in enumerate(self._columns)}\n",
    "\n",
    "    def load(self) -> _Datasettype:\n",
    "        data=[]\n",
    "        with open(self._path, encoding = \"ISO-8859-1\") as f:\n",
    "            for line in  f.readlines():\n",
    "                data.append(\n",
    "                    tuple(\n",
    "                            map(lambda x: x.replace('\\n', ''), line.split(sep=self._separator))\n",
    "                        )\n",
    "                    )\n",
    "        return _Datasettype(data)\n",
    "\n",
    "\n",
    "\n",
    "def flat(dataset: list) -> list:\n",
    "    return list(map(float,[x for y in dataset for x in y]))\n",
    "\n",
    "def mean(dataset: list) -> float:\n",
    "    sigma = sum(dataset)\n",
    "    N = len(dataset)\n",
    "    return sigma / N\n",
    "\n",
    "def std(dataset: list) -> float:\n",
    "    sqrt = lambda x: x**(1/2)\n",
    "    mu = mean(dataset)\n",
    "    sigma = sum([x - mu for x in dataset])\n",
    "    N = len(dataset)\n",
    "\n",
    "    return sqrt(sigma**2/(N-1))"
   ]
  },
  {
   "cell_type": "code",
   "execution_count": 87,
   "metadata": {},
   "outputs": [],
   "source": [
    "header='user id | item id | rating | timestamp'.split(' | ')\n",
    "dataset = DataFrame('ml-100k/u.data', '\\t', header)\n",
    "\n",
    "header = 'user id | age | gender | occupation | zip code'.split(' | ')\n",
    "user = DataFrame('ml-100k/u.user', '|', header)\n",
    "\n",
    "header ='movie id | movie title | release date | video release date | IMDb URL | unknown | Action | Adventure | Animation | Childrens | Comedy | Crime | Documentary | Drama | Fantasy | Film-Noir | Horror | Musical | Mystery | Romance | Sci-Fi | Thriller | War | Western'.split(' | ')\n",
    "item = DataFrame('ml-100k/u.item', '|', header)\n",
    "\n"
   ]
  },
  {
   "cell_type": "code",
   "execution_count": 88,
   "metadata": {},
   "outputs": [],
   "source": [
    "user_id = user['user id']\n",
    "user_mean = { \n",
    "    u_id : mean(flat(dataset['rating'][dataset['user id']==u_id])) for u_id in user_id \n",
    "}"
   ]
  },
  {
   "source": [
    "## Task \\#1 \n",
    "List the users id with mean review lesser than the dataset's mean review\n",
    "\n",
    "## Top 5 critics "
   ],
   "cell_type": "markdown",
   "metadata": {}
  },
  {
   "cell_type": "code",
   "execution_count": 89,
   "metadata": {
    "tags": []
   },
   "outputs": [
    {
     "output_type": "execute_result",
     "data": {
      "text/plain": [
       "[('181', 1.4919540229885058),\n",
       " ('405', 1.8344640434192674),\n",
       " ('445', 1.9851851851851852),\n",
       " ('685', 2.05),\n",
       " ('774', 2.0580357142857144)]"
      ]
     },
     "metadata": {},
     "execution_count": 89
    }
   ],
   "source": [
    "sorted(user_mean.items(), key=lambda key_value: key_value[1])[0:5]"
   ]
  },
  {
   "source": [
    "## Task \\#2 \n",
    "List the baddest movie ratings\n",
    "\n",
    "## Top 5 baddest ratings"
   ],
   "cell_type": "markdown",
   "metadata": {}
  },
  {
   "cell_type": "code",
   "execution_count": 90,
   "metadata": {},
   "outputs": [
    {
     "output_type": "execute_result",
     "data": {
      "text/plain": [
       "[['3', '7', '7'],\n",
       " ['3', '4', '6'],\n",
       " ['1', '0', '8', '1'],\n",
       " ['7', '9', '6'],\n",
       " ['2', '8', '8']]"
      ]
     },
     "metadata": {},
     "execution_count": 90
    }
   ],
   "source": [
    "dataset['item id'][dataset['rating']=='1'][0:5]"
   ]
  },
  {
   "source": [
    "## Task \\#3 \n",
    "The best movie ratings\n",
    "## Top 5"
   ],
   "cell_type": "markdown",
   "metadata": {}
  },
  {
   "cell_type": "code",
   "execution_count": 91,
   "metadata": {},
   "outputs": [
    {
     "output_type": "execute_result",
     "data": {
      "text/plain": [
       "[['4', '6', '5'],\n",
       " ['1', '0', '1', '4'],\n",
       " ['2', '2', '2'],\n",
       " ['3', '8', '7'],\n",
       " ['9', '5']]"
      ]
     },
     "metadata": {},
     "execution_count": 91
    }
   ],
   "source": [
    "dataset['item id'][dataset['rating']=='5'][0:5]"
   ]
  },
  {
   "source": [
    "## Task \\#4\n",
    "Mean rating by genre\n"
   ],
   "cell_type": "markdown",
   "metadata": {}
  },
  {
   "cell_type": "code",
   "execution_count": 92,
   "metadata": {},
   "outputs": [],
   "source": [
    "genre=['unknown',\n",
    " 'Action',\n",
    " 'Adventure',\n",
    " 'Animation',\n",
    " 'Childrens',\n",
    " 'Comedy',\n",
    " 'Crime',\n",
    " 'Documentary',\n",
    " 'Drama',\n",
    " 'Fantasy',\n",
    " 'Film-Noir',\n",
    " 'Horror',\n",
    " 'Musical',\n",
    " 'Mystery',\n",
    " 'Romance',\n",
    " 'Sci-Fi',\n",
    " 'Thriller',\n",
    " 'War',\n",
    " 'Western']"
   ]
  },
  {
   "cell_type": "code",
   "execution_count": 93,
   "metadata": {},
   "outputs": [],
   "source": [
    "gen_mean={}\n",
    "for gen in genre:\n",
    "    gen_movies = item['movie id'][item[gen]=='1']\n",
    "\n",
    "    gen_mean[gen] = mean(flat(dataset['rating'][dataset['item id']==gen_movies]))"
   ]
  },
  {
   "cell_type": "code",
   "execution_count": 94,
   "metadata": {},
   "outputs": [
    {
     "output_type": "execute_result",
     "data": {
      "text/plain": [
       "{'unknown': 3.2,\n",
       " 'Action': 3.480245417953027,\n",
       " 'Adventure': 3.503526503308369,\n",
       " 'Animation': 3.5766990291262135,\n",
       " 'Childrens': 3.3532442216652742,\n",
       " 'Comedy': 3.3940734781442745,\n",
       " 'Crime': 3.6322780881440098,\n",
       " 'Documentary': 3.6728232189973613,\n",
       " 'Drama': 3.6873793708484772,\n",
       " 'Fantasy': 3.2152366863905324,\n",
       " 'Film-Noir': 3.9215233698788228,\n",
       " 'Horror': 3.2903893172841827,\n",
       " 'Musical': 3.521396851029471,\n",
       " 'Mystery': 3.63813155386082,\n",
       " 'Romance': 3.621704948358255,\n",
       " 'Sci-Fi': 3.5607227022780834,\n",
       " 'Thriller': 3.5090069495245064,\n",
       " 'War': 3.815811874866993,\n",
       " 'Western': 3.6132686084142396}"
      ]
     },
     "metadata": {},
     "execution_count": 94
    }
   ],
   "source": [
    "gen_mean"
   ]
  },
  {
   "source": [
    "## Task \\#5\n",
    "mean rating by year"
   ],
   "cell_type": "markdown",
   "metadata": {}
  },
  {
   "cell_type": "code",
   "execution_count": 95,
   "metadata": {},
   "outputs": [],
   "source": [
    "years = list(set([x.split('-')[-1] for x in item['release date']]))"
   ]
  },
  {
   "cell_type": "code",
   "execution_count": 96,
   "metadata": {},
   "outputs": [],
   "source": [
    "mean_year_rating={}\n",
    "check_year = lambda x, y: [y in movie for movie in x]\n",
    "for year in years:\n",
    "    movies_by_year = item['movie id'][check_year(item['release date'],year)]\n",
    "    mean_year_rating[year] = mean(flat(dataset['rating'][dataset['item id'] == movies_by_year]))"
   ]
  },
  {
   "cell_type": "code",
   "execution_count": 97,
   "metadata": {},
   "outputs": [
    {
     "output_type": "execute_result",
     "data": {
      "text/plain": [
       "('1942', 4.398467432950191)"
      ]
     },
     "metadata": {},
     "execution_count": 97
    }
   ],
   "source": [
    "max(mean_year_rating.items(), key=lambda x: x[1])"
   ]
  },
  {
   "source": [
    "## Task \\#6\n",
    "baddest rating by occupation"
   ],
   "cell_type": "markdown",
   "metadata": {}
  },
  {
   "cell_type": "code",
   "execution_count": 98,
   "metadata": {},
   "outputs": [],
   "source": [
    "occupations = ['administrator',\n",
    "'artist',\n",
    "'doctor',\n",
    "'educator',\n",
    "'engineer',\n",
    "'entertainment',\n",
    "'executive',\n",
    "'healthcare',\n",
    "'homemaker',\n",
    "'lawyer',\n",
    "'librarian',\n",
    "'marketing',\n",
    "'none',\n",
    "'other',\n",
    "'programmer',\n",
    "'retired',\n",
    "'salesman',\n",
    "'scientist',\n",
    "'student',\n",
    "'technician',\n",
    "'writer',\n",
    "]"
   ]
  },
  {
   "cell_type": "code",
   "execution_count": 99,
   "metadata": {},
   "outputs": [],
   "source": [
    "occupation_mean_rating={}\n",
    "for occupation in occupations:\n",
    "    user_w_occupation = user['user id'][user['occupation']==occupation]\n",
    "\n",
    "    occupation_mean_rating[occupation] = mean(flat(dataset['rating'][dataset['user id'] == user_w_occupation]))"
   ]
  },
  {
   "cell_type": "code",
   "execution_count": 100,
   "metadata": {},
   "outputs": [
    {
     "output_type": "stream",
     "name": "stdout",
     "text": [
      "('healthcare', 2.896219686162625) ('none', 3.779134295227525)\n"
     ]
    }
   ],
   "source": [
    "print(min(occupation_mean_rating.items(),key=lambda x:x[1]), max(occupation_mean_rating.items(),key=lambda x:x[1]) )"
   ]
  }
 ]
}