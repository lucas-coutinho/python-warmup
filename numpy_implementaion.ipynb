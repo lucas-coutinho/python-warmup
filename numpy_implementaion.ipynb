{
 "metadata": {
  "language_info": {
   "codemirror_mode": {
    "name": "ipython",
    "version": 3
   },
   "file_extension": ".py",
   "mimetype": "text/x-python",
   "name": "python",
   "nbconvert_exporter": "python",
   "pygments_lexer": "ipython3",
   "version": "3.7.6"
  },
  "orig_nbformat": 2,
  "kernelspec": {
   "name": "python376jvsc74a57bd0eec8eac285937831eaf55a324af314c8014d3f32e7d5b9fc0a7fa4a8002b4eb4",
   "display_name": "Python 3.7.6 64-bit ('base': conda)"
  },
  "metadata": {
   "interpreter": {
    "hash": "eec8eac285937831eaf55a324af314c8014d3f32e7d5b9fc0a7fa4a8002b4eb4"
   }
  }
 },
 "nbformat": 4,
 "nbformat_minor": 2,
 "cells": [
  {
   "cell_type": "code",
   "execution_count": 1,
   "metadata": {},
   "outputs": [],
   "source": [
    "import numpy as np \n",
    "from utils import LoadDataset\n",
    "\n",
    "users = LoadDataset('ml-100k/u.data', sep='\\t').data\n"
   ]
  },
  {
   "cell_type": "code",
   "execution_count": 9,
   "metadata": {},
   "outputs": [
    {
     "output_type": "stream",
     "name": "stdout",
     "text": [
      "3.52986, 1.1256679707622492, 1.2671283804 are the values for mean, standard deviation and variance respectively\n"
     ]
    }
   ],
   "source": [
    "mean_rating = users[:,2].mean()\n",
    "std_rating = users[:,2].std()\n",
    "var_rating = users[:,2].var()\n",
    "print(f\"{mean_rating}, {std_rating}, {var_rating} are the values for mean, standard deviation and variance respectively\")"
   ]
  },
  {
   "cell_type": "code",
   "execution_count": 108,
   "metadata": {},
   "outputs": [],
   "source": [
    "\n",
    "\n",
    "for i in range(1, len(np.unique(users[:,0]))+1):\n",
    "    hor_stack = np.array([i])\n",
    "    hor_stack = np.hstack((hor_stack,users[users[:,0]==i][:,2].mean()))\n",
    "    hor_stack = np.hstack((hor_stack,users[users[:,0]==i][:,2].std()))\n",
    "    hor_stack = np.hstack((hor_stack,users[users[:,0]==i][:,2].var()))\n",
    "    if i == 1:\n",
    "        stack = hor_stack.reshape(1,-1)\n",
    "    else:\n",
    "        stack = np.vstack((stack, hor_stack.reshape(1,-1) ))"
   ]
  },
  {
   "cell_type": "code",
   "execution_count": 109,
   "metadata": {},
   "outputs": [],
   "source": [
    "stack_by_mean = np.hstack((stack, np.abs(stack[:,1].reshape(-1,1) - mean_rating)))\n",
    "sorted_by_mean_distance = stack[np.argsort(stack_by_mean[:,4])]\n"
   ]
  },
  {
   "cell_type": "code",
   "execution_count": 164,
   "metadata": {},
   "outputs": [
    {
     "output_type": "execute_result",
     "data": {
      "text/plain": [
       "array([[739.        ,   3.6       ,   1.51563282,   2.29714286],\n",
       "       [199.        ,   2.95      ,   1.54838626,   2.3975    ],\n",
       "       [219.        ,   3.71428571,   1.55511008,   2.41836735],\n",
       "       [174.        ,   3.5819209 ,   1.57139354,   2.46927767],\n",
       "       [179.        ,   3.04761905,   1.57287091,   2.4739229 ],\n",
       "       [ 68.        ,   3.02941176,   1.58086525,   2.49913495],\n",
       "       [ 38.        ,   3.71900826,   1.59141883,   2.53261389],\n",
       "       [531.        ,   3.23333333,   1.62651639,   2.64555556],\n",
       "       [762.        ,   3.04761905,   1.64682062,   2.71201814],\n",
       "       [609.        ,   2.39285714,   1.7183731 ,   2.95280612]])"
      ]
     },
     "metadata": {},
     "execution_count": 164
    }
   ],
   "source": [
    "stack[np.argsort(stack[:,3])][-10:,:]"
   ]
  },
  {
   "source": [
    "sorted_by_std_distance = stack[stack[:,1] - mean_rating <= -std_rating]\n",
    "sorted_by_std_distance = np.vstack((sorted_by_std_distance, stack[stack[:,1] - mean_rating >= std_rating]))\n",
    "\n"
   ],
   "cell_type": "code",
   "metadata": {},
   "execution_count": 150,
   "outputs": []
  },
  {
   "cell_type": "code",
   "execution_count": 152,
   "metadata": {},
   "outputs": [
    {
     "output_type": "execute_result",
     "data": {
      "text/plain": [
       "array([[1.81000000e+02, 1.49195402e+00, 8.45164527e-01, 7.14303078e-01],\n",
       "       [2.06000000e+02, 2.17187500e+00, 1.45295698e+00, 2.11108398e+00],\n",
       "       [4.05000000e+02, 1.83446404e+00, 1.34427002e+00, 1.80706189e+00],\n",
       "       [4.45000000e+02, 1.98518519e+00, 1.09534493e+00, 1.19978052e+00],\n",
       "       [6.09000000e+02, 2.39285714e+00, 1.71837310e+00, 2.95280612e+00],\n",
       "       [6.26000000e+02, 2.34375000e+00, 1.51264204e+00, 2.28808594e+00],\n",
       "       [6.85000000e+02, 2.05000000e+00, 7.39932429e-01, 5.47500000e-01],\n",
       "       [7.24000000e+02, 2.16470588e+00, 1.30921673e+00, 1.71404844e+00],\n",
       "       [7.74000000e+02, 2.05803571e+00, 1.13830532e+00, 1.29573900e+00],\n",
       "       [8.65000000e+02, 2.28787879e+00, 1.51522727e+00, 2.29591368e+00],\n",
       "       [1.18000000e+02, 4.66197183e+00, 7.49528715e-01, 5.61793295e-01],\n",
       "       [5.07000000e+02, 4.72413793e+00, 7.60968155e-01, 5.79072533e-01],\n",
       "       [6.28000000e+02, 4.70370370e+00, 7.10493559e-01, 5.04801097e-01],\n",
       "       [6.88000000e+02, 4.83333333e+00, 6.23609564e-01, 3.88888889e-01],\n",
       "       [8.49000000e+02, 4.86956522e+00, 3.36781161e-01, 1.13421550e-01],\n",
       "       [9.28000000e+02, 4.68750000e+00, 6.81794507e-01, 4.64843750e-01]])"
      ]
     },
     "metadata": {},
     "execution_count": 152
    }
   ],
   "source": [
    "sorted_by_std_distance"
   ]
  },
  {
   "cell_type": "code",
   "execution_count": 107,
   "metadata": {},
   "outputs": [
    {
     "output_type": "execute_result",
     "data": {
      "text/plain": [
       "[<matplotlib.lines.Line2D at 0x7f52bf316bd0>]"
      ]
     },
     "metadata": {},
     "execution_count": 107
    },
    {
     "output_type": "display_data",
     "data": {
      "text/plain": "<Figure size 432x288 with 1 Axes>",
      "image/svg+xml": "<?xml version=\"1.0\" encoding=\"utf-8\" standalone=\"no\"?>\n<!DOCTYPE svg PUBLIC \"-//W3C//DTD SVG 1.1//EN\"\n  \"http://www.w3.org/Graphics/SVG/1.1/DTD/svg11.dtd\">\n<!-- Created with matplotlib (https://matplotlib.org/) -->\n<svg height=\"248.518125pt\" version=\"1.1\" viewBox=\"0 0 372.103125 248.518125\" width=\"372.103125pt\" xmlns=\"http://www.w3.org/2000/svg\" xmlns:xlink=\"http://www.w3.org/1999/xlink\">\n <metadata>\n  <rdf:RDF xmlns:cc=\"http://creativecommons.org/ns#\" xmlns:dc=\"http://purl.org/dc/elements/1.1/\" xmlns:rdf=\"http://www.w3.org/1999/02/22-rdf-syntax-ns#\">\n   <cc:Work>\n    <dc:type rdf:resource=\"http://purl.org/dc/dcmitype/StillImage\"/>\n    <dc:date>2021-05-17T15:35:15.360907</dc:date>\n    <dc:format>image/svg+xml</dc:format>\n    <dc:creator>\n     <cc:Agent>\n      <dc:title>Matplotlib v3.3.4, https://matplotlib.org/</dc:title>\n     </cc:Agent>\n    </dc:creator>\n   </cc:Work>\n  </rdf:RDF>\n </metadata>\n <defs>\n  <style type=\"text/css\">*{stroke-linecap:butt;stroke-linejoin:round;}</style>\n </defs>\n <g id=\"figure_1\">\n  <g id=\"patch_1\">\n   <path d=\"M 0 248.518125 \nL 372.103125 248.518125 \nL 372.103125 0 \nL 0 0 \nz\n\" style=\"fill:none;\"/>\n  </g>\n  <g id=\"axes_1\">\n   <g id=\"patch_2\">\n    <path d=\"M 30.103125 224.64 \nL 364.903125 224.64 \nL 364.903125 7.2 \nL 30.103125 7.2 \nz\n\" style=\"fill:#ffffff;\"/>\n   </g>\n   <g id=\"patch_3\">\n    <path clip-path=\"url(#p1d151408ad)\" d=\"M 136.140617 224.64 \nL 138.196661 224.64 \nL 138.196661 219.33011 \nL 136.140617 219.33011 \nz\n\" style=\"fill:#1f77b4;\"/>\n   </g>\n   <g id=\"patch_4\">\n    <path clip-path=\"url(#p1d151408ad)\" d=\"M 138.196661 224.64 \nL 140.252705 224.64 \nL 140.252705 224.64 \nL 138.196661 224.64 \nz\n\" style=\"fill:#1f77b4;\"/>\n   </g>\n   <g id=\"patch_5\">\n    <path clip-path=\"url(#p1d151408ad)\" d=\"M 140.252705 224.64 \nL 142.308749 224.64 \nL 142.308749 224.64 \nL 140.252705 224.64 \nz\n\" style=\"fill:#1f77b4;\"/>\n   </g>\n   <g id=\"patch_6\">\n    <path clip-path=\"url(#p1d151408ad)\" d=\"M 142.308749 224.64 \nL 144.364793 224.64 \nL 144.364793 224.64 \nL 142.308749 224.64 \nz\n\" style=\"fill:#1f77b4;\"/>\n   </g>\n   <g id=\"patch_7\">\n    <path clip-path=\"url(#p1d151408ad)\" d=\"M 144.364793 224.64 \nL 146.420837 224.64 \nL 146.420837 224.64 \nL 144.364793 224.64 \nz\n\" style=\"fill:#1f77b4;\"/>\n   </g>\n   <g id=\"patch_8\">\n    <path clip-path=\"url(#p1d151408ad)\" d=\"M 146.420837 224.64 \nL 148.476881 224.64 \nL 148.476881 224.64 \nL 146.420837 224.64 \nz\n\" style=\"fill:#1f77b4;\"/>\n   </g>\n   <g id=\"patch_9\">\n    <path clip-path=\"url(#p1d151408ad)\" d=\"M 148.476881 224.64 \nL 150.532926 224.64 \nL 150.532926 224.64 \nL 148.476881 224.64 \nz\n\" style=\"fill:#1f77b4;\"/>\n   </g>\n   <g id=\"patch_10\">\n    <path clip-path=\"url(#p1d151408ad)\" d=\"M 150.532926 224.64 \nL 152.58897 224.64 \nL 152.58897 224.64 \nL 150.532926 224.64 \nz\n\" style=\"fill:#1f77b4;\"/>\n   </g>\n   <g id=\"patch_11\">\n    <path clip-path=\"url(#p1d151408ad)\" d=\"M 152.58897 224.64 \nL 154.645014 224.64 \nL 154.645014 224.64 \nL 152.58897 224.64 \nz\n\" style=\"fill:#1f77b4;\"/>\n   </g>\n   <g id=\"patch_12\">\n    <path clip-path=\"url(#p1d151408ad)\" d=\"M 154.645014 224.64 \nL 156.701058 224.64 \nL 156.701058 224.64 \nL 154.645014 224.64 \nz\n\" style=\"fill:#1f77b4;\"/>\n   </g>\n   <g id=\"patch_13\">\n    <path clip-path=\"url(#p1d151408ad)\" d=\"M 156.701058 224.64 \nL 158.757102 224.64 \nL 158.757102 219.33011 \nL 156.701058 219.33011 \nz\n\" style=\"fill:#1f77b4;\"/>\n   </g>\n   <g id=\"patch_14\">\n    <path clip-path=\"url(#p1d151408ad)\" d=\"M 158.757102 224.64 \nL 160.813146 224.64 \nL 160.813146 224.64 \nL 158.757102 224.64 \nz\n\" style=\"fill:#1f77b4;\"/>\n   </g>\n   <g id=\"patch_15\">\n    <path clip-path=\"url(#p1d151408ad)\" d=\"M 160.813146 224.64 \nL 162.86919 224.64 \nL 162.86919 224.64 \nL 160.813146 224.64 \nz\n\" style=\"fill:#1f77b4;\"/>\n   </g>\n   <g id=\"patch_16\">\n    <path clip-path=\"url(#p1d151408ad)\" d=\"M 162.86919 224.64 \nL 164.925234 224.64 \nL 164.925234 224.64 \nL 162.86919 224.64 \nz\n\" style=\"fill:#1f77b4;\"/>\n   </g>\n   <g id=\"patch_17\">\n    <path clip-path=\"url(#p1d151408ad)\" d=\"M 164.925234 224.64 \nL 166.981278 224.64 \nL 166.981278 219.33011 \nL 164.925234 219.33011 \nz\n\" style=\"fill:#1f77b4;\"/>\n   </g>\n   <g id=\"patch_18\">\n    <path clip-path=\"url(#p1d151408ad)\" d=\"M 166.981278 224.64 \nL 169.037322 224.64 \nL 169.037322 224.64 \nL 166.981278 224.64 \nz\n\" style=\"fill:#1f77b4;\"/>\n   </g>\n   <g id=\"patch_19\">\n    <path clip-path=\"url(#p1d151408ad)\" d=\"M 169.037322 224.64 \nL 171.093366 224.64 \nL 171.093366 214.02022 \nL 169.037322 214.02022 \nz\n\" style=\"fill:#1f77b4;\"/>\n   </g>\n   <g id=\"patch_20\">\n    <path clip-path=\"url(#p1d151408ad)\" d=\"M 171.093366 224.64 \nL 173.14941 224.64 \nL 173.14941 224.64 \nL 171.093366 224.64 \nz\n\" style=\"fill:#1f77b4;\"/>\n   </g>\n   <g id=\"patch_21\">\n    <path clip-path=\"url(#p1d151408ad)\" d=\"M 173.14941 224.64 \nL 175.205454 224.64 \nL 175.205454 224.64 \nL 173.14941 224.64 \nz\n\" style=\"fill:#1f77b4;\"/>\n   </g>\n   <g id=\"patch_22\">\n    <path clip-path=\"url(#p1d151408ad)\" d=\"M 175.205454 224.64 \nL 177.261498 224.64 \nL 177.261498 219.33011 \nL 175.205454 219.33011 \nz\n\" style=\"fill:#1f77b4;\"/>\n   </g>\n   <g id=\"patch_23\">\n    <path clip-path=\"url(#p1d151408ad)\" d=\"M 177.261498 224.64 \nL 179.317542 224.64 \nL 179.317542 219.33011 \nL 177.261498 219.33011 \nz\n\" style=\"fill:#1f77b4;\"/>\n   </g>\n   <g id=\"patch_24\">\n    <path clip-path=\"url(#p1d151408ad)\" d=\"M 179.317542 224.64 \nL 181.373586 224.64 \nL 181.373586 224.64 \nL 179.317542 224.64 \nz\n\" style=\"fill:#1f77b4;\"/>\n   </g>\n   <g id=\"patch_25\">\n    <path clip-path=\"url(#p1d151408ad)\" d=\"M 181.373586 224.64 \nL 183.42963 224.64 \nL 183.42963 224.64 \nL 181.373586 224.64 \nz\n\" style=\"fill:#1f77b4;\"/>\n   </g>\n   <g id=\"patch_26\">\n    <path clip-path=\"url(#p1d151408ad)\" d=\"M 183.42963 224.64 \nL 185.485674 224.64 \nL 185.485674 219.33011 \nL 183.42963 219.33011 \nz\n\" style=\"fill:#1f77b4;\"/>\n   </g>\n   <g id=\"patch_27\">\n    <path clip-path=\"url(#p1d151408ad)\" d=\"M 185.485674 224.64 \nL 187.541718 224.64 \nL 187.541718 224.64 \nL 185.485674 224.64 \nz\n\" style=\"fill:#1f77b4;\"/>\n   </g>\n   <g id=\"patch_28\">\n    <path clip-path=\"url(#p1d151408ad)\" d=\"M 187.541718 224.64 \nL 189.597762 224.64 \nL 189.597762 219.33011 \nL 187.541718 219.33011 \nz\n\" style=\"fill:#1f77b4;\"/>\n   </g>\n   <g id=\"patch_29\">\n    <path clip-path=\"url(#p1d151408ad)\" d=\"M 189.597762 224.64 \nL 191.653807 224.64 \nL 191.653807 219.33011 \nL 189.597762 219.33011 \nz\n\" style=\"fill:#1f77b4;\"/>\n   </g>\n   <g id=\"patch_30\">\n    <path clip-path=\"url(#p1d151408ad)\" d=\"M 191.653807 224.64 \nL 193.709851 224.64 \nL 193.709851 219.33011 \nL 191.653807 219.33011 \nz\n\" style=\"fill:#1f77b4;\"/>\n   </g>\n   <g id=\"patch_31\">\n    <path clip-path=\"url(#p1d151408ad)\" d=\"M 193.709851 224.64 \nL 195.765895 224.64 \nL 195.765895 219.33011 \nL 193.709851 219.33011 \nz\n\" style=\"fill:#1f77b4;\"/>\n   </g>\n   <g id=\"patch_32\">\n    <path clip-path=\"url(#p1d151408ad)\" d=\"M 195.765895 224.64 \nL 197.821939 224.64 \nL 197.821939 219.33011 \nL 195.765895 219.33011 \nz\n\" style=\"fill:#1f77b4;\"/>\n   </g>\n   <g id=\"patch_33\">\n    <path clip-path=\"url(#p1d151408ad)\" d=\"M 197.821939 224.64 \nL 199.877983 224.64 \nL 199.877983 219.33011 \nL 197.821939 219.33011 \nz\n\" style=\"fill:#1f77b4;\"/>\n   </g>\n   <g id=\"patch_34\">\n    <path clip-path=\"url(#p1d151408ad)\" d=\"M 199.877983 224.64 \nL 201.934027 224.64 \nL 201.934027 203.40044 \nL 199.877983 203.40044 \nz\n\" style=\"fill:#1f77b4;\"/>\n   </g>\n   <g id=\"patch_35\">\n    <path clip-path=\"url(#p1d151408ad)\" d=\"M 201.934027 224.64 \nL 203.990071 224.64 \nL 203.990071 208.71033 \nL 201.934027 208.71033 \nz\n\" style=\"fill:#1f77b4;\"/>\n   </g>\n   <g id=\"patch_36\">\n    <path clip-path=\"url(#p1d151408ad)\" d=\"M 203.990071 224.64 \nL 206.046115 224.64 \nL 206.046115 208.71033 \nL 203.990071 208.71033 \nz\n\" style=\"fill:#1f77b4;\"/>\n   </g>\n   <g id=\"patch_37\">\n    <path clip-path=\"url(#p1d151408ad)\" d=\"M 206.046115 224.64 \nL 208.102159 224.64 \nL 208.102159 198.090549 \nL 206.046115 198.090549 \nz\n\" style=\"fill:#1f77b4;\"/>\n   </g>\n   <g id=\"patch_38\">\n    <path clip-path=\"url(#p1d151408ad)\" d=\"M 208.102159 224.64 \nL 210.158203 224.64 \nL 210.158203 203.40044 \nL 208.102159 203.40044 \nz\n\" style=\"fill:#1f77b4;\"/>\n   </g>\n   <g id=\"patch_39\">\n    <path clip-path=\"url(#p1d151408ad)\" d=\"M 210.158203 224.64 \nL 212.214247 224.64 \nL 212.214247 208.71033 \nL 210.158203 208.71033 \nz\n\" style=\"fill:#1f77b4;\"/>\n   </g>\n   <g id=\"patch_40\">\n    <path clip-path=\"url(#p1d151408ad)\" d=\"M 212.214247 224.64 \nL 214.270291 224.64 \nL 214.270291 214.02022 \nL 212.214247 214.02022 \nz\n\" style=\"fill:#1f77b4;\"/>\n   </g>\n   <g id=\"patch_41\">\n    <path clip-path=\"url(#p1d151408ad)\" d=\"M 214.270291 224.64 \nL 216.326335 224.64 \nL 216.326335 192.780659 \nL 214.270291 192.780659 \nz\n\" style=\"fill:#1f77b4;\"/>\n   </g>\n   <g id=\"patch_42\">\n    <path clip-path=\"url(#p1d151408ad)\" d=\"M 216.326335 224.64 \nL 218.382379 224.64 \nL 218.382379 219.33011 \nL 216.326335 219.33011 \nz\n\" style=\"fill:#1f77b4;\"/>\n   </g>\n   <g id=\"patch_43\">\n    <path clip-path=\"url(#p1d151408ad)\" d=\"M 218.382379 224.64 \nL 220.438423 224.64 \nL 220.438423 182.160879 \nL 218.382379 182.160879 \nz\n\" style=\"fill:#1f77b4;\"/>\n   </g>\n   <g id=\"patch_44\">\n    <path clip-path=\"url(#p1d151408ad)\" d=\"M 220.438423 224.64 \nL 222.494467 224.64 \nL 222.494467 192.780659 \nL 220.438423 192.780659 \nz\n\" style=\"fill:#1f77b4;\"/>\n   </g>\n   <g id=\"patch_45\">\n    <path clip-path=\"url(#p1d151408ad)\" d=\"M 222.494467 224.64 \nL 224.550511 224.64 \nL 224.550511 198.090549 \nL 222.494467 198.090549 \nz\n\" style=\"fill:#1f77b4;\"/>\n   </g>\n   <g id=\"patch_46\">\n    <path clip-path=\"url(#p1d151408ad)\" d=\"M 224.550511 224.64 \nL 226.606555 224.64 \nL 226.606555 134.371868 \nL 224.550511 134.371868 \nz\n\" style=\"fill:#1f77b4;\"/>\n   </g>\n   <g id=\"patch_47\">\n    <path clip-path=\"url(#p1d151408ad)\" d=\"M 226.606555 224.64 \nL 228.662599 224.64 \nL 228.662599 160.921319 \nL 226.606555 160.921319 \nz\n\" style=\"fill:#1f77b4;\"/>\n   </g>\n   <g id=\"patch_48\">\n    <path clip-path=\"url(#p1d151408ad)\" d=\"M 228.662599 224.64 \nL 230.718643 224.64 \nL 230.718643 144.991648 \nL 228.662599 144.991648 \nz\n\" style=\"fill:#1f77b4;\"/>\n   </g>\n   <g id=\"patch_49\">\n    <path clip-path=\"url(#p1d151408ad)\" d=\"M 230.718643 224.64 \nL 232.774688 224.64 \nL 232.774688 171.541099 \nL 230.718643 171.541099 \nz\n\" style=\"fill:#1f77b4;\"/>\n   </g>\n   <g id=\"patch_50\">\n    <path clip-path=\"url(#p1d151408ad)\" d=\"M 232.774688 224.64 \nL 234.830732 224.64 \nL 234.830732 160.921319 \nL 232.774688 160.921319 \nz\n\" style=\"fill:#1f77b4;\"/>\n   </g>\n   <g id=\"patch_51\">\n    <path clip-path=\"url(#p1d151408ad)\" d=\"M 234.830732 224.64 \nL 236.886776 224.64 \nL 236.886776 118.442198 \nL 234.830732 118.442198 \nz\n\" style=\"fill:#1f77b4;\"/>\n   </g>\n   <g id=\"patch_52\">\n    <path clip-path=\"url(#p1d151408ad)\" d=\"M 236.886776 224.64 \nL 238.94282 224.64 \nL 238.94282 182.160879 \nL 236.886776 182.160879 \nz\n\" style=\"fill:#1f77b4;\"/>\n   </g>\n   <g id=\"patch_53\">\n    <path clip-path=\"url(#p1d151408ad)\" d=\"M 238.94282 224.64 \nL 240.998864 224.64 \nL 240.998864 150.301538 \nL 238.94282 150.301538 \nz\n\" style=\"fill:#1f77b4;\"/>\n   </g>\n   <g id=\"patch_54\">\n    <path clip-path=\"url(#p1d151408ad)\" d=\"M 240.998864 224.64 \nL 243.054908 224.64 \nL 243.054908 144.991648 \nL 240.998864 144.991648 \nz\n\" style=\"fill:#1f77b4;\"/>\n   </g>\n   <g id=\"patch_55\">\n    <path clip-path=\"url(#p1d151408ad)\" d=\"M 243.054908 224.64 \nL 245.110952 224.64 \nL 245.110952 113.132308 \nL 243.054908 113.132308 \nz\n\" style=\"fill:#1f77b4;\"/>\n   </g>\n   <g id=\"patch_56\">\n    <path clip-path=\"url(#p1d151408ad)\" d=\"M 245.110952 224.64 \nL 247.166996 224.64 \nL 247.166996 102.512527 \nL 245.110952 102.512527 \nz\n\" style=\"fill:#1f77b4;\"/>\n   </g>\n   <g id=\"patch_57\">\n    <path clip-path=\"url(#p1d151408ad)\" d=\"M 247.166996 224.64 \nL 249.22304 224.64 \nL 249.22304 123.752088 \nL 247.166996 123.752088 \nz\n\" style=\"fill:#1f77b4;\"/>\n   </g>\n   <g id=\"patch_58\">\n    <path clip-path=\"url(#p1d151408ad)\" d=\"M 249.22304 224.64 \nL 251.279084 224.64 \nL 251.279084 49.413626 \nL 249.22304 49.413626 \nz\n\" style=\"fill:#1f77b4;\"/>\n   </g>\n   <g id=\"patch_59\">\n    <path clip-path=\"url(#p1d151408ad)\" d=\"M 251.279084 224.64 \nL 253.335128 224.64 \nL 253.335128 123.752088 \nL 251.279084 123.752088 \nz\n\" style=\"fill:#1f77b4;\"/>\n   </g>\n   <g id=\"patch_60\">\n    <path clip-path=\"url(#p1d151408ad)\" d=\"M 253.335128 224.64 \nL 255.391172 224.64 \nL 255.391172 60.033407 \nL 253.335128 60.033407 \nz\n\" style=\"fill:#1f77b4;\"/>\n   </g>\n   <g id=\"patch_61\">\n    <path clip-path=\"url(#p1d151408ad)\" d=\"M 255.391172 224.64 \nL 257.447216 224.64 \nL 257.447216 75.963077 \nL 255.391172 75.963077 \nz\n\" style=\"fill:#1f77b4;\"/>\n   </g>\n   <g id=\"patch_62\">\n    <path clip-path=\"url(#p1d151408ad)\" d=\"M 257.447216 224.64 \nL 259.50326 224.64 \nL 259.50326 102.512527 \nL 257.447216 102.512527 \nz\n\" style=\"fill:#1f77b4;\"/>\n   </g>\n   <g id=\"patch_63\">\n    <path clip-path=\"url(#p1d151408ad)\" d=\"M 259.50326 224.64 \nL 261.559304 224.64 \nL 261.559304 49.413626 \nL 259.50326 49.413626 \nz\n\" style=\"fill:#1f77b4;\"/>\n   </g>\n   <g id=\"patch_64\">\n    <path clip-path=\"url(#p1d151408ad)\" d=\"M 261.559304 224.64 \nL 263.615348 224.64 \nL 263.615348 86.582857 \nL 261.559304 86.582857 \nz\n\" style=\"fill:#1f77b4;\"/>\n   </g>\n   <g id=\"patch_65\">\n    <path clip-path=\"url(#p1d151408ad)\" d=\"M 263.615348 224.64 \nL 265.671392 224.64 \nL 265.671392 75.963077 \nL 263.615348 75.963077 \nz\n\" style=\"fill:#1f77b4;\"/>\n   </g>\n   <g id=\"patch_66\">\n    <path clip-path=\"url(#p1d151408ad)\" d=\"M 265.671392 224.64 \nL 267.727436 224.64 \nL 267.727436 60.033407 \nL 265.671392 60.033407 \nz\n\" style=\"fill:#1f77b4;\"/>\n   </g>\n   <g id=\"patch_67\">\n    <path clip-path=\"url(#p1d151408ad)\" d=\"M 267.727436 224.64 \nL 269.78348 224.64 \nL 269.78348 70.653187 \nL 267.727436 70.653187 \nz\n\" style=\"fill:#1f77b4;\"/>\n   </g>\n   <g id=\"patch_68\">\n    <path clip-path=\"url(#p1d151408ad)\" d=\"M 269.78348 224.64 \nL 271.839525 224.64 \nL 271.839525 22.864176 \nL 269.78348 22.864176 \nz\n\" style=\"fill:#1f77b4;\"/>\n   </g>\n   <g id=\"patch_69\">\n    <path clip-path=\"url(#p1d151408ad)\" d=\"M 271.839525 224.64 \nL 273.895569 224.64 \nL 273.895569 17.554286 \nL 271.839525 17.554286 \nz\n\" style=\"fill:#1f77b4;\"/>\n   </g>\n   <g id=\"patch_70\">\n    <path clip-path=\"url(#p1d151408ad)\" d=\"M 273.895569 224.64 \nL 275.951613 224.64 \nL 275.951613 60.033407 \nL 273.895569 60.033407 \nz\n\" style=\"fill:#1f77b4;\"/>\n   </g>\n   <g id=\"patch_71\">\n    <path clip-path=\"url(#p1d151408ad)\" d=\"M 275.951613 224.64 \nL 278.007657 224.64 \nL 278.007657 86.582857 \nL 275.951613 86.582857 \nz\n\" style=\"fill:#1f77b4;\"/>\n   </g>\n   <g id=\"patch_72\">\n    <path clip-path=\"url(#p1d151408ad)\" d=\"M 278.007657 224.64 \nL 280.063701 224.64 \nL 280.063701 60.033407 \nL 278.007657 60.033407 \nz\n\" style=\"fill:#1f77b4;\"/>\n   </g>\n   <g id=\"patch_73\">\n    <path clip-path=\"url(#p1d151408ad)\" d=\"M 280.063701 224.64 \nL 282.119745 224.64 \nL 282.119745 97.202637 \nL 280.063701 97.202637 \nz\n\" style=\"fill:#1f77b4;\"/>\n   </g>\n   <g id=\"patch_74\">\n    <path clip-path=\"url(#p1d151408ad)\" d=\"M 282.119745 224.64 \nL 284.175789 224.64 \nL 284.175789 118.442198 \nL 282.119745 118.442198 \nz\n\" style=\"fill:#1f77b4;\"/>\n   </g>\n   <g id=\"patch_75\">\n    <path clip-path=\"url(#p1d151408ad)\" d=\"M 284.175789 224.64 \nL 286.231833 224.64 \nL 286.231833 118.442198 \nL 284.175789 118.442198 \nz\n\" style=\"fill:#1f77b4;\"/>\n   </g>\n   <g id=\"patch_76\">\n    <path clip-path=\"url(#p1d151408ad)\" d=\"M 286.231833 224.64 \nL 288.287877 224.64 \nL 288.287877 118.442198 \nL 286.231833 118.442198 \nz\n\" style=\"fill:#1f77b4;\"/>\n   </g>\n   <g id=\"patch_77\">\n    <path clip-path=\"url(#p1d151408ad)\" d=\"M 288.287877 224.64 \nL 290.343921 224.64 \nL 290.343921 113.132308 \nL 288.287877 113.132308 \nz\n\" style=\"fill:#1f77b4;\"/>\n   </g>\n   <g id=\"patch_78\">\n    <path clip-path=\"url(#p1d151408ad)\" d=\"M 290.343921 224.64 \nL 292.399965 224.64 \nL 292.399965 123.752088 \nL 290.343921 123.752088 \nz\n\" style=\"fill:#1f77b4;\"/>\n   </g>\n   <g id=\"patch_79\">\n    <path clip-path=\"url(#p1d151408ad)\" d=\"M 292.399965 224.64 \nL 294.456009 224.64 \nL 294.456009 160.921319 \nL 292.399965 160.921319 \nz\n\" style=\"fill:#1f77b4;\"/>\n   </g>\n   <g id=\"patch_80\">\n    <path clip-path=\"url(#p1d151408ad)\" d=\"M 294.456009 224.64 \nL 296.512053 224.64 \nL 296.512053 171.541099 \nL 294.456009 171.541099 \nz\n\" style=\"fill:#1f77b4;\"/>\n   </g>\n   <g id=\"patch_81\">\n    <path clip-path=\"url(#p1d151408ad)\" d=\"M 296.512053 224.64 \nL 298.568097 224.64 \nL 298.568097 123.752088 \nL 296.512053 123.752088 \nz\n\" style=\"fill:#1f77b4;\"/>\n   </g>\n   <g id=\"patch_82\">\n    <path clip-path=\"url(#p1d151408ad)\" d=\"M 298.568097 224.64 \nL 300.624141 224.64 \nL 300.624141 176.850989 \nL 298.568097 176.850989 \nz\n\" style=\"fill:#1f77b4;\"/>\n   </g>\n   <g id=\"patch_83\">\n    <path clip-path=\"url(#p1d151408ad)\" d=\"M 300.624141 224.64 \nL 302.680185 224.64 \nL 302.680185 160.921319 \nL 300.624141 160.921319 \nz\n\" style=\"fill:#1f77b4;\"/>\n   </g>\n   <g id=\"patch_84\">\n    <path clip-path=\"url(#p1d151408ad)\" d=\"M 302.680185 224.64 \nL 304.736229 224.64 \nL 304.736229 198.090549 \nL 302.680185 198.090549 \nz\n\" style=\"fill:#1f77b4;\"/>\n   </g>\n   <g id=\"patch_85\">\n    <path clip-path=\"url(#p1d151408ad)\" d=\"M 304.736229 224.64 \nL 306.792273 224.64 \nL 306.792273 182.160879 \nL 304.736229 182.160879 \nz\n\" style=\"fill:#1f77b4;\"/>\n   </g>\n   <g id=\"patch_86\">\n    <path clip-path=\"url(#p1d151408ad)\" d=\"M 306.792273 224.64 \nL 308.848317 224.64 \nL 308.848317 171.541099 \nL 306.792273 171.541099 \nz\n\" style=\"fill:#1f77b4;\"/>\n   </g>\n   <g id=\"patch_87\">\n    <path clip-path=\"url(#p1d151408ad)\" d=\"M 308.848317 224.64 \nL 310.904361 224.64 \nL 310.904361 166.231209 \nL 308.848317 166.231209 \nz\n\" style=\"fill:#1f77b4;\"/>\n   </g>\n   <g id=\"patch_88\">\n    <path clip-path=\"url(#p1d151408ad)\" d=\"M 310.904361 224.64 \nL 312.960406 224.64 \nL 312.960406 192.780659 \nL 310.904361 192.780659 \nz\n\" style=\"fill:#1f77b4;\"/>\n   </g>\n   <g id=\"patch_89\">\n    <path clip-path=\"url(#p1d151408ad)\" d=\"M 312.960406 224.64 \nL 315.01645 224.64 \nL 315.01645 214.02022 \nL 312.960406 214.02022 \nz\n\" style=\"fill:#1f77b4;\"/>\n   </g>\n   <g id=\"patch_90\">\n    <path clip-path=\"url(#p1d151408ad)\" d=\"M 315.01645 224.64 \nL 317.072494 224.64 \nL 317.072494 198.090549 \nL 315.01645 198.090549 \nz\n\" style=\"fill:#1f77b4;\"/>\n   </g>\n   <g id=\"patch_91\">\n    <path clip-path=\"url(#p1d151408ad)\" d=\"M 317.072494 224.64 \nL 319.128538 224.64 \nL 319.128538 219.33011 \nL 317.072494 219.33011 \nz\n\" style=\"fill:#1f77b4;\"/>\n   </g>\n   <g id=\"patch_92\">\n    <path clip-path=\"url(#p1d151408ad)\" d=\"M 319.128538 224.64 \nL 321.184582 224.64 \nL 321.184582 214.02022 \nL 319.128538 214.02022 \nz\n\" style=\"fill:#1f77b4;\"/>\n   </g>\n   <g id=\"patch_93\">\n    <path clip-path=\"url(#p1d151408ad)\" d=\"M 321.184582 224.64 \nL 323.240626 224.64 \nL 323.240626 203.40044 \nL 321.184582 203.40044 \nz\n\" style=\"fill:#1f77b4;\"/>\n   </g>\n   <g id=\"patch_94\">\n    <path clip-path=\"url(#p1d151408ad)\" d=\"M 323.240626 224.64 \nL 325.29667 224.64 \nL 325.29667 219.33011 \nL 323.240626 219.33011 \nz\n\" style=\"fill:#1f77b4;\"/>\n   </g>\n   <g id=\"patch_95\">\n    <path clip-path=\"url(#p1d151408ad)\" d=\"M 325.29667 224.64 \nL 327.352714 224.64 \nL 327.352714 224.64 \nL 325.29667 224.64 \nz\n\" style=\"fill:#1f77b4;\"/>\n   </g>\n   <g id=\"patch_96\">\n    <path clip-path=\"url(#p1d151408ad)\" d=\"M 327.352714 224.64 \nL 329.408758 224.64 \nL 329.408758 219.33011 \nL 327.352714 219.33011 \nz\n\" style=\"fill:#1f77b4;\"/>\n   </g>\n   <g id=\"patch_97\">\n    <path clip-path=\"url(#p1d151408ad)\" d=\"M 329.408758 224.64 \nL 331.464802 224.64 \nL 331.464802 219.33011 \nL 329.408758 219.33011 \nz\n\" style=\"fill:#1f77b4;\"/>\n   </g>\n   <g id=\"patch_98\">\n    <path clip-path=\"url(#p1d151408ad)\" d=\"M 331.464802 224.64 \nL 333.520846 224.64 \nL 333.520846 214.02022 \nL 331.464802 214.02022 \nz\n\" style=\"fill:#1f77b4;\"/>\n   </g>\n   <g id=\"patch_99\">\n    <path clip-path=\"url(#p1d151408ad)\" d=\"M 333.520846 224.64 \nL 335.57689 224.64 \nL 335.57689 224.64 \nL 333.520846 224.64 \nz\n\" style=\"fill:#1f77b4;\"/>\n   </g>\n   <g id=\"patch_100\">\n    <path clip-path=\"url(#p1d151408ad)\" d=\"M 335.57689 224.64 \nL 337.632934 224.64 \nL 337.632934 224.64 \nL 335.57689 224.64 \nz\n\" style=\"fill:#1f77b4;\"/>\n   </g>\n   <g id=\"patch_101\">\n    <path clip-path=\"url(#p1d151408ad)\" d=\"M 337.632934 224.64 \nL 339.688978 224.64 \nL 339.688978 219.33011 \nL 337.632934 219.33011 \nz\n\" style=\"fill:#1f77b4;\"/>\n   </g>\n   <g id=\"patch_102\">\n    <path clip-path=\"url(#p1d151408ad)\" d=\"M 339.688978 224.64 \nL 341.745022 224.64 \nL 341.745022 219.33011 \nL 339.688978 219.33011 \nz\n\" style=\"fill:#1f77b4;\"/>\n   </g>\n   <g id=\"matplotlib.axis_1\">\n    <g id=\"xtick_1\">\n     <g id=\"line2d_1\">\n      <defs>\n       <path d=\"M 0 0 \nL 0 3.5 \n\" id=\"mb90636b474\" style=\"stroke:#000000;stroke-width:0.8;\"/>\n      </defs>\n      <g>\n       <use style=\"stroke:#000000;stroke-width:0.8;\" x=\"45.321307\" xlink:href=\"#mb90636b474\" y=\"224.64\"/>\n      </g>\n     </g>\n     <g id=\"text_1\">\n      <!-- 0 -->\n      <g transform=\"translate(42.140057 239.238438)scale(0.1 -0.1)\">\n       <defs>\n        <path d=\"M 31.78125 66.40625 \nQ 24.171875 66.40625 20.328125 58.90625 \nQ 16.5 51.421875 16.5 36.375 \nQ 16.5 21.390625 20.328125 13.890625 \nQ 24.171875 6.390625 31.78125 6.390625 \nQ 39.453125 6.390625 43.28125 13.890625 \nQ 47.125 21.390625 47.125 36.375 \nQ 47.125 51.421875 43.28125 58.90625 \nQ 39.453125 66.40625 31.78125 66.40625 \nz\nM 31.78125 74.21875 \nQ 44.046875 74.21875 50.515625 64.515625 \nQ 56.984375 54.828125 56.984375 36.375 \nQ 56.984375 17.96875 50.515625 8.265625 \nQ 44.046875 -1.421875 31.78125 -1.421875 \nQ 19.53125 -1.421875 13.0625 8.265625 \nQ 6.59375 17.96875 6.59375 36.375 \nQ 6.59375 54.828125 13.0625 64.515625 \nQ 19.53125 74.21875 31.78125 74.21875 \nz\n\" id=\"DejaVuSans-48\"/>\n       </defs>\n       <use xlink:href=\"#DejaVuSans-48\"/>\n      </g>\n     </g>\n    </g>\n    <g id=\"xtick_2\">\n     <g id=\"line2d_2\">\n      <g>\n       <use style=\"stroke:#000000;stroke-width:0.8;\" x=\"106.194034\" xlink:href=\"#mb90636b474\" y=\"224.64\"/>\n      </g>\n     </g>\n     <g id=\"text_2\">\n      <!-- 1 -->\n      <g transform=\"translate(103.012784 239.238438)scale(0.1 -0.1)\">\n       <defs>\n        <path d=\"M 12.40625 8.296875 \nL 28.515625 8.296875 \nL 28.515625 63.921875 \nL 10.984375 60.40625 \nL 10.984375 69.390625 \nL 28.421875 72.90625 \nL 38.28125 72.90625 \nL 38.28125 8.296875 \nL 54.390625 8.296875 \nL 54.390625 0 \nL 12.40625 0 \nz\n\" id=\"DejaVuSans-49\"/>\n       </defs>\n       <use xlink:href=\"#DejaVuSans-49\"/>\n      </g>\n     </g>\n    </g>\n    <g id=\"xtick_3\">\n     <g id=\"line2d_3\">\n      <g>\n       <use style=\"stroke:#000000;stroke-width:0.8;\" x=\"167.066761\" xlink:href=\"#mb90636b474\" y=\"224.64\"/>\n      </g>\n     </g>\n     <g id=\"text_3\">\n      <!-- 2 -->\n      <g transform=\"translate(163.885511 239.238438)scale(0.1 -0.1)\">\n       <defs>\n        <path d=\"M 19.1875 8.296875 \nL 53.609375 8.296875 \nL 53.609375 0 \nL 7.328125 0 \nL 7.328125 8.296875 \nQ 12.9375 14.109375 22.625 23.890625 \nQ 32.328125 33.6875 34.8125 36.53125 \nQ 39.546875 41.84375 41.421875 45.53125 \nQ 43.3125 49.21875 43.3125 52.78125 \nQ 43.3125 58.59375 39.234375 62.25 \nQ 35.15625 65.921875 28.609375 65.921875 \nQ 23.96875 65.921875 18.8125 64.3125 \nQ 13.671875 62.703125 7.8125 59.421875 \nL 7.8125 69.390625 \nQ 13.765625 71.78125 18.9375 73 \nQ 24.125 74.21875 28.421875 74.21875 \nQ 39.75 74.21875 46.484375 68.546875 \nQ 53.21875 62.890625 53.21875 53.421875 \nQ 53.21875 48.921875 51.53125 44.890625 \nQ 49.859375 40.875 45.40625 35.40625 \nQ 44.1875 33.984375 37.640625 27.21875 \nQ 31.109375 20.453125 19.1875 8.296875 \nz\n\" id=\"DejaVuSans-50\"/>\n       </defs>\n       <use xlink:href=\"#DejaVuSans-50\"/>\n      </g>\n     </g>\n    </g>\n    <g id=\"xtick_4\">\n     <g id=\"line2d_4\">\n      <g>\n       <use style=\"stroke:#000000;stroke-width:0.8;\" x=\"227.939489\" xlink:href=\"#mb90636b474\" y=\"224.64\"/>\n      </g>\n     </g>\n     <g id=\"text_4\">\n      <!-- 3 -->\n      <g transform=\"translate(224.758239 239.238438)scale(0.1 -0.1)\">\n       <defs>\n        <path d=\"M 40.578125 39.3125 \nQ 47.65625 37.796875 51.625 33 \nQ 55.609375 28.21875 55.609375 21.1875 \nQ 55.609375 10.40625 48.1875 4.484375 \nQ 40.765625 -1.421875 27.09375 -1.421875 \nQ 22.515625 -1.421875 17.65625 -0.515625 \nQ 12.796875 0.390625 7.625 2.203125 \nL 7.625 11.71875 \nQ 11.71875 9.328125 16.59375 8.109375 \nQ 21.484375 6.890625 26.8125 6.890625 \nQ 36.078125 6.890625 40.9375 10.546875 \nQ 45.796875 14.203125 45.796875 21.1875 \nQ 45.796875 27.640625 41.28125 31.265625 \nQ 36.765625 34.90625 28.71875 34.90625 \nL 20.21875 34.90625 \nL 20.21875 43.015625 \nL 29.109375 43.015625 \nQ 36.375 43.015625 40.234375 45.921875 \nQ 44.09375 48.828125 44.09375 54.296875 \nQ 44.09375 59.90625 40.109375 62.90625 \nQ 36.140625 65.921875 28.71875 65.921875 \nQ 24.65625 65.921875 20.015625 65.03125 \nQ 15.375 64.15625 9.8125 62.3125 \nL 9.8125 71.09375 \nQ 15.4375 72.65625 20.34375 73.4375 \nQ 25.25 74.21875 29.59375 74.21875 \nQ 40.828125 74.21875 47.359375 69.109375 \nQ 53.90625 64.015625 53.90625 55.328125 \nQ 53.90625 49.265625 50.4375 45.09375 \nQ 46.96875 40.921875 40.578125 39.3125 \nz\n\" id=\"DejaVuSans-51\"/>\n       </defs>\n       <use xlink:href=\"#DejaVuSans-51\"/>\n      </g>\n     </g>\n    </g>\n    <g id=\"xtick_5\">\n     <g id=\"line2d_5\">\n      <g>\n       <use style=\"stroke:#000000;stroke-width:0.8;\" x=\"288.812216\" xlink:href=\"#mb90636b474\" y=\"224.64\"/>\n      </g>\n     </g>\n     <g id=\"text_5\">\n      <!-- 4 -->\n      <g transform=\"translate(285.630966 239.238438)scale(0.1 -0.1)\">\n       <defs>\n        <path d=\"M 37.796875 64.3125 \nL 12.890625 25.390625 \nL 37.796875 25.390625 \nz\nM 35.203125 72.90625 \nL 47.609375 72.90625 \nL 47.609375 25.390625 \nL 58.015625 25.390625 \nL 58.015625 17.1875 \nL 47.609375 17.1875 \nL 47.609375 0 \nL 37.796875 0 \nL 37.796875 17.1875 \nL 4.890625 17.1875 \nL 4.890625 26.703125 \nz\n\" id=\"DejaVuSans-52\"/>\n       </defs>\n       <use xlink:href=\"#DejaVuSans-52\"/>\n      </g>\n     </g>\n    </g>\n    <g id=\"xtick_6\">\n     <g id=\"line2d_6\">\n      <g>\n       <use style=\"stroke:#000000;stroke-width:0.8;\" x=\"349.684943\" xlink:href=\"#mb90636b474\" y=\"224.64\"/>\n      </g>\n     </g>\n     <g id=\"text_6\">\n      <!-- 5 -->\n      <g transform=\"translate(346.503693 239.238438)scale(0.1 -0.1)\">\n       <defs>\n        <path d=\"M 10.796875 72.90625 \nL 49.515625 72.90625 \nL 49.515625 64.59375 \nL 19.828125 64.59375 \nL 19.828125 46.734375 \nQ 21.96875 47.46875 24.109375 47.828125 \nQ 26.265625 48.1875 28.421875 48.1875 \nQ 40.625 48.1875 47.75 41.5 \nQ 54.890625 34.8125 54.890625 23.390625 \nQ 54.890625 11.625 47.5625 5.09375 \nQ 40.234375 -1.421875 26.90625 -1.421875 \nQ 22.3125 -1.421875 17.546875 -0.640625 \nQ 12.796875 0.140625 7.71875 1.703125 \nL 7.71875 11.625 \nQ 12.109375 9.234375 16.796875 8.0625 \nQ 21.484375 6.890625 26.703125 6.890625 \nQ 35.15625 6.890625 40.078125 11.328125 \nQ 45.015625 15.765625 45.015625 23.390625 \nQ 45.015625 31 40.078125 35.4375 \nQ 35.15625 39.890625 26.703125 39.890625 \nQ 22.75 39.890625 18.8125 39.015625 \nQ 14.890625 38.140625 10.796875 36.28125 \nz\n\" id=\"DejaVuSans-53\"/>\n       </defs>\n       <use xlink:href=\"#DejaVuSans-53\"/>\n      </g>\n     </g>\n    </g>\n   </g>\n   <g id=\"matplotlib.axis_2\">\n    <g id=\"ytick_1\">\n     <g id=\"line2d_7\">\n      <defs>\n       <path d=\"M 0 0 \nL -3.5 0 \n\" id=\"mfb349abb99\" style=\"stroke:#000000;stroke-width:0.8;\"/>\n      </defs>\n      <g>\n       <use style=\"stroke:#000000;stroke-width:0.8;\" x=\"30.103125\" xlink:href=\"#mfb349abb99\" y=\"224.64\"/>\n      </g>\n     </g>\n     <g id=\"text_7\">\n      <!-- 0.0 -->\n      <g transform=\"translate(7.2 228.439219)scale(0.1 -0.1)\">\n       <defs>\n        <path d=\"M 10.6875 12.40625 \nL 21 12.40625 \nL 21 0 \nL 10.6875 0 \nz\n\" id=\"DejaVuSans-46\"/>\n       </defs>\n       <use xlink:href=\"#DejaVuSans-48\"/>\n       <use x=\"63.623047\" xlink:href=\"#DejaVuSans-46\"/>\n       <use x=\"95.410156\" xlink:href=\"#DejaVuSans-48\"/>\n      </g>\n     </g>\n    </g>\n    <g id=\"ytick_2\">\n     <g id=\"line2d_8\">\n      <g>\n       <use style=\"stroke:#000000;stroke-width:0.8;\" x=\"30.103125\" xlink:href=\"#mfb349abb99\" y=\"190.815072\"/>\n      </g>\n     </g>\n     <g id=\"text_8\">\n      <!-- 0.2 -->\n      <g transform=\"translate(7.2 194.614291)scale(0.1 -0.1)\">\n       <use xlink:href=\"#DejaVuSans-48\"/>\n       <use x=\"63.623047\" xlink:href=\"#DejaVuSans-46\"/>\n       <use x=\"95.410156\" xlink:href=\"#DejaVuSans-50\"/>\n      </g>\n     </g>\n    </g>\n    <g id=\"ytick_3\">\n     <g id=\"line2d_9\">\n      <g>\n       <use style=\"stroke:#000000;stroke-width:0.8;\" x=\"30.103125\" xlink:href=\"#mfb349abb99\" y=\"156.990145\"/>\n      </g>\n     </g>\n     <g id=\"text_9\">\n      <!-- 0.4 -->\n      <g transform=\"translate(7.2 160.789363)scale(0.1 -0.1)\">\n       <use xlink:href=\"#DejaVuSans-48\"/>\n       <use x=\"63.623047\" xlink:href=\"#DejaVuSans-46\"/>\n       <use x=\"95.410156\" xlink:href=\"#DejaVuSans-52\"/>\n      </g>\n     </g>\n    </g>\n    <g id=\"ytick_4\">\n     <g id=\"line2d_10\">\n      <g>\n       <use style=\"stroke:#000000;stroke-width:0.8;\" x=\"30.103125\" xlink:href=\"#mfb349abb99\" y=\"123.165217\"/>\n      </g>\n     </g>\n     <g id=\"text_10\">\n      <!-- 0.6 -->\n      <g transform=\"translate(7.2 126.964436)scale(0.1 -0.1)\">\n       <defs>\n        <path d=\"M 33.015625 40.375 \nQ 26.375 40.375 22.484375 35.828125 \nQ 18.609375 31.296875 18.609375 23.390625 \nQ 18.609375 15.53125 22.484375 10.953125 \nQ 26.375 6.390625 33.015625 6.390625 \nQ 39.65625 6.390625 43.53125 10.953125 \nQ 47.40625 15.53125 47.40625 23.390625 \nQ 47.40625 31.296875 43.53125 35.828125 \nQ 39.65625 40.375 33.015625 40.375 \nz\nM 52.59375 71.296875 \nL 52.59375 62.3125 \nQ 48.875 64.0625 45.09375 64.984375 \nQ 41.3125 65.921875 37.59375 65.921875 \nQ 27.828125 65.921875 22.671875 59.328125 \nQ 17.53125 52.734375 16.796875 39.40625 \nQ 19.671875 43.65625 24.015625 45.921875 \nQ 28.375 48.1875 33.59375 48.1875 \nQ 44.578125 48.1875 50.953125 41.515625 \nQ 57.328125 34.859375 57.328125 23.390625 \nQ 57.328125 12.15625 50.6875 5.359375 \nQ 44.046875 -1.421875 33.015625 -1.421875 \nQ 20.359375 -1.421875 13.671875 8.265625 \nQ 6.984375 17.96875 6.984375 36.375 \nQ 6.984375 53.65625 15.1875 63.9375 \nQ 23.390625 74.21875 37.203125 74.21875 \nQ 40.921875 74.21875 44.703125 73.484375 \nQ 48.484375 72.75 52.59375 71.296875 \nz\n\" id=\"DejaVuSans-54\"/>\n       </defs>\n       <use xlink:href=\"#DejaVuSans-48\"/>\n       <use x=\"63.623047\" xlink:href=\"#DejaVuSans-46\"/>\n       <use x=\"95.410156\" xlink:href=\"#DejaVuSans-54\"/>\n      </g>\n     </g>\n    </g>\n    <g id=\"ytick_5\">\n     <g id=\"line2d_11\">\n      <g>\n       <use style=\"stroke:#000000;stroke-width:0.8;\" x=\"30.103125\" xlink:href=\"#mfb349abb99\" y=\"89.340289\"/>\n      </g>\n     </g>\n     <g id=\"text_11\">\n      <!-- 0.8 -->\n      <g transform=\"translate(7.2 93.139508)scale(0.1 -0.1)\">\n       <defs>\n        <path d=\"M 31.78125 34.625 \nQ 24.75 34.625 20.71875 30.859375 \nQ 16.703125 27.09375 16.703125 20.515625 \nQ 16.703125 13.921875 20.71875 10.15625 \nQ 24.75 6.390625 31.78125 6.390625 \nQ 38.8125 6.390625 42.859375 10.171875 \nQ 46.921875 13.96875 46.921875 20.515625 \nQ 46.921875 27.09375 42.890625 30.859375 \nQ 38.875 34.625 31.78125 34.625 \nz\nM 21.921875 38.8125 \nQ 15.578125 40.375 12.03125 44.71875 \nQ 8.5 49.078125 8.5 55.328125 \nQ 8.5 64.0625 14.71875 69.140625 \nQ 20.953125 74.21875 31.78125 74.21875 \nQ 42.671875 74.21875 48.875 69.140625 \nQ 55.078125 64.0625 55.078125 55.328125 \nQ 55.078125 49.078125 51.53125 44.71875 \nQ 48 40.375 41.703125 38.8125 \nQ 48.828125 37.15625 52.796875 32.3125 \nQ 56.78125 27.484375 56.78125 20.515625 \nQ 56.78125 9.90625 50.3125 4.234375 \nQ 43.84375 -1.421875 31.78125 -1.421875 \nQ 19.734375 -1.421875 13.25 4.234375 \nQ 6.78125 9.90625 6.78125 20.515625 \nQ 6.78125 27.484375 10.78125 32.3125 \nQ 14.796875 37.15625 21.921875 38.8125 \nz\nM 18.3125 54.390625 \nQ 18.3125 48.734375 21.84375 45.5625 \nQ 25.390625 42.390625 31.78125 42.390625 \nQ 38.140625 42.390625 41.71875 45.5625 \nQ 45.3125 48.734375 45.3125 54.390625 \nQ 45.3125 60.0625 41.71875 63.234375 \nQ 38.140625 66.40625 31.78125 66.40625 \nQ 25.390625 66.40625 21.84375 63.234375 \nQ 18.3125 60.0625 18.3125 54.390625 \nz\n\" id=\"DejaVuSans-56\"/>\n       </defs>\n       <use xlink:href=\"#DejaVuSans-48\"/>\n       <use x=\"63.623047\" xlink:href=\"#DejaVuSans-46\"/>\n       <use x=\"95.410156\" xlink:href=\"#DejaVuSans-56\"/>\n      </g>\n     </g>\n    </g>\n    <g id=\"ytick_6\">\n     <g id=\"line2d_12\">\n      <g>\n       <use style=\"stroke:#000000;stroke-width:0.8;\" x=\"30.103125\" xlink:href=\"#mfb349abb99\" y=\"55.515361\"/>\n      </g>\n     </g>\n     <g id=\"text_12\">\n      <!-- 1.0 -->\n      <g transform=\"translate(7.2 59.31458)scale(0.1 -0.1)\">\n       <use xlink:href=\"#DejaVuSans-49\"/>\n       <use x=\"63.623047\" xlink:href=\"#DejaVuSans-46\"/>\n       <use x=\"95.410156\" xlink:href=\"#DejaVuSans-48\"/>\n      </g>\n     </g>\n    </g>\n    <g id=\"ytick_7\">\n     <g id=\"line2d_13\">\n      <g>\n       <use style=\"stroke:#000000;stroke-width:0.8;\" x=\"30.103125\" xlink:href=\"#mfb349abb99\" y=\"21.690434\"/>\n      </g>\n     </g>\n     <g id=\"text_13\">\n      <!-- 1.2 -->\n      <g transform=\"translate(7.2 25.489653)scale(0.1 -0.1)\">\n       <use xlink:href=\"#DejaVuSans-49\"/>\n       <use x=\"63.623047\" xlink:href=\"#DejaVuSans-46\"/>\n       <use x=\"95.410156\" xlink:href=\"#DejaVuSans-50\"/>\n      </g>\n     </g>\n    </g>\n   </g>\n   <g id=\"line2d_14\">\n    <path clip-path=\"url(#p1d151408ad)\" d=\"M 45.321307 223.762015 \nL 48.395687 223.630394 \nL 51.470067 223.481376 \nL 54.544447 223.313036 \nL 57.618827 223.123294 \nL 60.693208 222.909908 \nL 63.767588 222.670468 \nL 66.841968 222.4024 \nL 69.916348 222.102957 \nL 72.990728 221.769228 \nL 76.065108 221.398131 \nL 79.139489 220.986425 \nL 82.213869 220.530715 \nL 85.288249 220.027459 \nL 88.362629 219.472981 \nL 91.437009 218.86349 \nL 94.511389 218.19509 \nL 97.58577 217.463811 \nL 100.66015 216.665625 \nL 103.73453 215.796479 \nL 106.80891 214.852326 \nL 109.88329 213.829157 \nL 112.95767 212.723044 \nL 116.032051 211.530175 \nL 119.106431 210.246904 \nL 122.180811 208.869797 \nL 125.255191 207.395679 \nL 128.329571 205.821687 \nL 131.403951 204.145326 \nL 134.478332 202.364518 \nL 137.552712 200.477662 \nL 140.627092 198.483686 \nL 143.701472 196.382099 \nL 146.775852 194.173048 \nL 149.850232 191.857365 \nL 152.924613 189.436611 \nL 155.998993 186.913124 \nL 159.073373 184.290053 \nL 162.147753 181.57139 \nL 165.222133 178.761999 \nL 168.296513 175.867628 \nL 171.370894 172.894925 \nL 174.445274 169.851436 \nL 177.519654 166.745599 \nL 180.594034 163.586724 \nL 183.668414 160.384969 \nL 186.742794 157.151301 \nL 189.817175 153.897448 \nL 192.891555 150.635837 \nL 195.965935 147.379532 \nL 199.040315 144.142152 \nL 202.114695 140.937784 \nL 205.189075 137.780884 \nL 208.263456 134.686182 \nL 211.337836 131.66856 \nL 214.412216 128.742946 \nL 217.486596 125.924186 \nL 220.560976 123.226926 \nL 223.635356 120.665481 \nL 226.709737 118.253714 \nL 229.784117 116.004909 \nL 232.858497 113.931653 \nL 235.932877 112.045712 \nL 239.007257 110.357928 \nL 242.081637 108.87811 \nL 245.156018 107.614943 \nL 248.230398 106.575897 \nL 251.304778 105.76716 \nL 254.379158 105.193574 \nL 257.453538 104.858587 \nL 260.527918 104.764216 \nL 263.602299 104.91103 \nL 266.676679 105.298145 \nL 269.751059 105.923228 \nL 272.825439 106.782527 \nL 275.899819 107.870901 \nL 278.974199 109.181879 \nL 282.04858 110.707718 \nL 285.12296 112.439481 \nL 288.19734 114.367128 \nL 291.27172 116.479606 \nL 294.3461 118.764959 \nL 297.42048 121.21044 \nL 300.494861 123.802628 \nL 303.569241 126.527552 \nL 306.643621 129.370812 \nL 309.718001 132.31771 \nL 312.792381 135.353371 \nL 315.866761 138.462867 \nL 318.941142 141.631339 \nL 322.015522 144.844108 \nL 325.089902 148.08679 \nL 328.164282 151.34539 \nL 331.238662 154.606404 \nL 334.313042 157.856901 \nL 337.387423 161.084599 \nL 340.461803 164.277931 \nL 343.536183 167.426104 \nL 346.610563 170.519141 \nL 349.684943 173.547918 \n\" style=\"fill:none;stroke:#ff7f0e;stroke-linecap:square;stroke-width:1.5;\"/>\n   </g>\n   <g id=\"patch_103\">\n    <path d=\"M 30.103125 224.64 \nL 30.103125 7.2 \n\" style=\"fill:none;stroke:#000000;stroke-linecap:square;stroke-linejoin:miter;stroke-width:0.8;\"/>\n   </g>\n   <g id=\"patch_104\">\n    <path d=\"M 364.903125 224.64 \nL 364.903125 7.2 \n\" style=\"fill:none;stroke:#000000;stroke-linecap:square;stroke-linejoin:miter;stroke-width:0.8;\"/>\n   </g>\n   <g id=\"patch_105\">\n    <path d=\"M 30.103125 224.64 \nL 364.903125 224.64 \n\" style=\"fill:none;stroke:#000000;stroke-linecap:square;stroke-linejoin:miter;stroke-width:0.8;\"/>\n   </g>\n   <g id=\"patch_106\">\n    <path d=\"M 30.103125 7.2 \nL 364.903125 7.2 \n\" style=\"fill:none;stroke:#000000;stroke-linecap:square;stroke-linejoin:miter;stroke-width:0.8;\"/>\n   </g>\n  </g>\n </g>\n <defs>\n  <clipPath id=\"p1d151408ad\">\n   <rect height=\"217.44\" width=\"334.8\" x=\"30.103125\" y=\"7.2\"/>\n  </clipPath>\n </defs>\n</svg>\n",
      "image/png": "[encoded data removed]"
     },
     "metadata": {
      "needs_background": "light"
     }
    }
   ],
   "source": [
    "import matplotlib.pyplot as plt \n",
    "import scipy.stats as stats\n",
    "\n",
    "x = plt.hist(stack[:,1], bins=100, density=True)\n",
    "plt.plot(np.linspace(0,5, num=100),2*stats.norm.pdf(np.linspace(0,5, num=100), mean_rating, std_rating))\n"
   ]
  },
  {
   "cell_type": "code",
   "execution_count": 102,
   "metadata": {},
   "outputs": [
    {
     "output_type": "execute_result",
     "data": {
      "text/plain": [
       "True"
      ]
     },
     "metadata": {},
     "execution_count": 102
    }
   ],
   "source": [
    " (np.sum(x[0] * np.diff(x[1])) == 1)"
   ]
  },
  {
   "cell_type": "code",
   "execution_count": 6,
   "metadata": {},
   "outputs": [],
   "source": [
    "import pandas as pd \n",
    "\n",
    "header='user id | item id | rating | timestamp'.split(' | ')\n",
    "\n",
    "data = pd.read_csv('ml-100k/u.data', names=header, sep='\\t',)"
   ]
  },
  {
   "cell_type": "code",
   "execution_count": 11,
   "metadata": {},
   "outputs": [
    {
     "output_type": "stream",
     "name": "stdout",
     "text": [
      "3.52986 1.125673599144129 1.267141051810097\n"
     ]
    }
   ],
   "source": [
    "print(data['rating'].mean(),data['rating'].std(),data['rating'].var())"
   ]
  },
  {
   "cell_type": "code",
   "execution_count": 20,
   "metadata": {},
   "outputs": [],
   "source": [
    "feature = pd.DataFrame(index=range(1,944), columns=range(1, 1683))"
   ]
  },
  {
   "cell_type": "code",
   "execution_count": 26,
   "metadata": {},
   "outputs": [],
   "source": [
    "for idx, row in data.iterrows():\n",
    "    id, item, rate, timestamp = row\n",
    "    feature[item][id] = rate"
   ]
  },
  {
   "cell_type": "code",
   "execution_count": 28,
   "metadata": {},
   "outputs": [
    {
     "output_type": "execute_result",
     "data": {
      "text/plain": [
       "1      3.610294\n",
       "2      3.709677\n",
       "3      2.796296\n",
       "4      4.333333\n",
       "5      2.874286\n",
       "         ...   \n",
       "939    4.265306\n",
       "940    3.457944\n",
       "941    4.045455\n",
       "942    4.265823\n",
       "943    3.410714\n",
       "Length: 943, dtype: float64"
      ]
     },
     "metadata": {},
     "execution_count": 28
    }
   ],
   "source": [
    "feature.mean(axis=1)\n"
   ]
  },
  {
   "cell_type": "code",
   "execution_count": 34,
   "metadata": {},
   "outputs": [
    {
     "output_type": "execute_result",
     "data": {
      "text/plain": [
       "849    0.118577\n",
       "355    0.233846\n",
       "477    0.255462\n",
       "469    0.302326\n",
       "33     0.302536\n",
       "         ...   \n",
       "38     2.553719\n",
       "68     2.574866\n",
       "531    2.736782\n",
       "762    2.847619\n",
       "609    3.062169\n",
       "Length: 943, dtype: float64"
      ]
     },
     "metadata": {},
     "execution_count": 34
    }
   ],
   "source": [
    "feature.var(axis=1).sort_values()"
   ]
  },
  {
   "cell_type": "code",
   "execution_count": 38,
   "metadata": {},
   "outputs": [],
   "source": [
    "header ='movie id | movie title | release date | video release date | IMDb URL | unknown | Action | Adventure | Animation | Childrens | Comedy | Crime | Documentary | Drama | Fantasy | Film-Noir | Horror | Musical | Mystery | Romance | Sci-Fi | Thriller | War | Western'.split(' | ')\n",
    "\n",
    "movies = pd.read_csv('ml-100k/u.item', names=header, sep='|')"
   ]
  },
  {
   "cell_type": "code",
   "execution_count": 43,
   "metadata": {},
   "outputs": [
    {
     "output_type": "execute_result",
     "data": {
      "text/plain": [
       "pandas.core.frame.DataFrame"
      ]
     },
     "metadata": {},
     "execution_count": 43
    }
   ],
   "source": [
    "type(movies)"
   ]
  },
  {
   "cell_type": "code",
   "execution_count": null,
   "metadata": {},
   "outputs": [],
   "source": []
  }
 ]
}