{
 "cells": [
  {
   "cell_type": "code",
   "execution_count": 1,
   "id": "c1c3c6dc-0fd8-4a0d-a4c8-7af8aca9c63b",
   "metadata": {},
   "outputs": [],
   "source": [
    "import tools as tl\n",
    "import pandas as pd\n",
    "import numpy as np\n",
    "import os\n",
    "from scipy import spatial\n",
    "from scipy.stats import pearsonr, spearmanr"
   ]
  },
  {
   "cell_type": "code",
   "execution_count": 2,
   "id": "f581518f-5fe1-4c98-b2ee-0d0825f4dde9",
   "metadata": {},
   "outputs": [],
   "source": [
    "os.chdir('ml-100k/')"
   ]
  },
  {
   "cell_type": "markdown",
   "id": "dd049f9e-ee0e-4f63-82db-e57a096a7ef0",
   "metadata": {},
   "source": [
    "Para esse conjunto de exercícios vamos utilizar o dataset MovieLens 100k\n",
    "\n",
    "Os conjuntos de dados do MovieLens foram coletados pelo GroupLens Research Project na Universidade de Minnesota.\n",
    "\n",
    "Este conjunto de dados consiste em:\n",
    "\n",
    "* 100.000 classificações (1-5) de 943 usuários em 1.682 filmes.\n",
    "* Cada usuário classificou pelo menos 20 filmes.\n",
    "* Informações demográficas simples para os usuários (idade, sexo, ocupação, CEP)\n",
    "\n",
    "Os dados foram coletados por meio do site MovieLens (movielens.umn.edu) durante o período de sete meses a partir de 19 de setembro, 1997 a 22 de abril de 1998. Estes dados foram limpos - usuários que tiveram menos de 20 avaliações ou não tiveram dados demográficos completos informações foram removidas deste conjunto de dados. Descrições detalhadas de o arquivo de dados pode ser encontrado no final deste arquivo.\n",
    "\n",
    "Crie o seguinte conjunto de classes:"
   ]
  },
  {
   "cell_type": "markdown",
   "id": "3ea3da99-9d0a-4bc8-b1c0-88d05ec70e17",
   "metadata": {},
   "source": [
    "1. Classe Usuário contendo os dados relativos ao usuário (arquivo u.user) e com as seguintes responsabilidades:\n",
    "\n",
    "* Cálculo do valor médio de avaliações;"
   ]
  },
  {
   "cell_type": "code",
   "execution_count": 3,
   "id": "b320686e-217e-4d36-b5d8-ec7d23f4a22e",
   "metadata": {},
   "outputs": [],
   "source": [
    "class Usuario:\n",
    "    def __init__(self, dados_users, columns_users, separator_users, dados_rat, columns_rat, separator_rat):\n",
    "        self.users_pd = pd.read_csv(dados_users, names=columns_users, sep=separator_users)\n",
    "        self.data_pd = pd.read_csv(dados_rat, names=columns_rat, sep=separator_rat)\n",
    "        self.user_id = self.users_pd['user_id']\n",
    "        self.age = self.users_pd['age']\n",
    "        self.gender = self.users_pd['gender']\n",
    "        self.occ = self.users_pd['occupation']\n",
    "        self.zip_code = self.users_pd['zip_code']\n",
    "    \n",
    "    def dados_user(self, user):\n",
    "        return self.users_pd.iloc[(user-1)]\n",
    "    \n",
    "    def occ_user(self, user):\n",
    "        return self.users_pd['occupation'].iloc[(user-1)]\n",
    "    \n",
    "    def rating_user(self, user):\n",
    "        items = list(self.data_pd[self.data_pd['user_id']==user]['item_id'])\n",
    "        rats = list(self.data_pd[self.data_pd['user_id']==user]['rating'])\n",
    "        rating_dict = dict(zip(items, rats))\n",
    "        return rating_dict\n",
    "        \n",
    "          \n",
    "    def rating_mean_user(self, user):\n",
    "        mean_user = self.data_pd[self.data_pd['user_id']==user]['rating'].mean()\n",
    "        return mean_user"
   ]
  },
  {
   "cell_type": "code",
   "execution_count": 4,
   "id": "76954f16-ae50-40fe-98dc-e398ac549b89",
   "metadata": {},
   "outputs": [],
   "source": [
    "users = Usuario(dados_users='u.user', columns_users=['user_id', 'age', 'gender', 'occupation', 'zip_code'], separator_users='|', \n",
    "                dados_rat='u.data', columns_rat=['user_id', 'item_id', 'rating', 'timestampsep'], separator_rat='\\t')"
   ]
  },
  {
   "cell_type": "code",
   "execution_count": 5,
   "id": "da97c488-8755-4e12-b2f4-6b36b245751c",
   "metadata": {},
   "outputs": [
    {
     "data": {
      "text/html": [
       "<div>\n",
       "<style scoped>\n",
       "    .dataframe tbody tr th:only-of-type {\n",
       "        vertical-align: middle;\n",
       "    }\n",
       "\n",
       "    .dataframe tbody tr th {\n",
       "        vertical-align: top;\n",
       "    }\n",
       "\n",
       "    .dataframe thead th {\n",
       "        text-align: right;\n",
       "    }\n",
       "</style>\n",
       "<table border=\"1\" class=\"dataframe\">\n",
       "  <thead>\n",
       "    <tr style=\"text-align: right;\">\n",
       "      <th></th>\n",
       "      <th>user_id</th>\n",
       "      <th>age</th>\n",
       "      <th>gender</th>\n",
       "      <th>occupation</th>\n",
       "      <th>zip_code</th>\n",
       "    </tr>\n",
       "  </thead>\n",
       "  <tbody>\n",
       "    <tr>\n",
       "      <th>0</th>\n",
       "      <td>1</td>\n",
       "      <td>24</td>\n",
       "      <td>M</td>\n",
       "      <td>technician</td>\n",
       "      <td>85711</td>\n",
       "    </tr>\n",
       "    <tr>\n",
       "      <th>1</th>\n",
       "      <td>2</td>\n",
       "      <td>53</td>\n",
       "      <td>F</td>\n",
       "      <td>other</td>\n",
       "      <td>94043</td>\n",
       "    </tr>\n",
       "    <tr>\n",
       "      <th>2</th>\n",
       "      <td>3</td>\n",
       "      <td>23</td>\n",
       "      <td>M</td>\n",
       "      <td>writer</td>\n",
       "      <td>32067</td>\n",
       "    </tr>\n",
       "    <tr>\n",
       "      <th>3</th>\n",
       "      <td>4</td>\n",
       "      <td>24</td>\n",
       "      <td>M</td>\n",
       "      <td>technician</td>\n",
       "      <td>43537</td>\n",
       "    </tr>\n",
       "    <tr>\n",
       "      <th>4</th>\n",
       "      <td>5</td>\n",
       "      <td>33</td>\n",
       "      <td>F</td>\n",
       "      <td>other</td>\n",
       "      <td>15213</td>\n",
       "    </tr>\n",
       "    <tr>\n",
       "      <th>...</th>\n",
       "      <td>...</td>\n",
       "      <td>...</td>\n",
       "      <td>...</td>\n",
       "      <td>...</td>\n",
       "      <td>...</td>\n",
       "    </tr>\n",
       "    <tr>\n",
       "      <th>938</th>\n",
       "      <td>939</td>\n",
       "      <td>26</td>\n",
       "      <td>F</td>\n",
       "      <td>student</td>\n",
       "      <td>33319</td>\n",
       "    </tr>\n",
       "    <tr>\n",
       "      <th>939</th>\n",
       "      <td>940</td>\n",
       "      <td>32</td>\n",
       "      <td>M</td>\n",
       "      <td>administrator</td>\n",
       "      <td>02215</td>\n",
       "    </tr>\n",
       "    <tr>\n",
       "      <th>940</th>\n",
       "      <td>941</td>\n",
       "      <td>20</td>\n",
       "      <td>M</td>\n",
       "      <td>student</td>\n",
       "      <td>97229</td>\n",
       "    </tr>\n",
       "    <tr>\n",
       "      <th>941</th>\n",
       "      <td>942</td>\n",
       "      <td>48</td>\n",
       "      <td>F</td>\n",
       "      <td>librarian</td>\n",
       "      <td>78209</td>\n",
       "    </tr>\n",
       "    <tr>\n",
       "      <th>942</th>\n",
       "      <td>943</td>\n",
       "      <td>22</td>\n",
       "      <td>M</td>\n",
       "      <td>student</td>\n",
       "      <td>77841</td>\n",
       "    </tr>\n",
       "  </tbody>\n",
       "</table>\n",
       "<p>943 rows × 5 columns</p>\n",
       "</div>"
      ],
      "text/plain": [
       "     user_id  age gender     occupation zip_code\n",
       "0          1   24      M     technician    85711\n",
       "1          2   53      F          other    94043\n",
       "2          3   23      M         writer    32067\n",
       "3          4   24      M     technician    43537\n",
       "4          5   33      F          other    15213\n",
       "..       ...  ...    ...            ...      ...\n",
       "938      939   26      F        student    33319\n",
       "939      940   32      M  administrator    02215\n",
       "940      941   20      M        student    97229\n",
       "941      942   48      F      librarian    78209\n",
       "942      943   22      M        student    77841\n",
       "\n",
       "[943 rows x 5 columns]"
      ]
     },
     "execution_count": 5,
     "metadata": {},
     "output_type": "execute_result"
    }
   ],
   "source": [
    "users.users_pd"
   ]
  },
  {
   "cell_type": "code",
   "execution_count": 6,
   "id": "ce6d6219-b1ab-414b-b10c-253e090a04c1",
   "metadata": {},
   "outputs": [
    {
     "data": {
      "text/html": [
       "<div>\n",
       "<style scoped>\n",
       "    .dataframe tbody tr th:only-of-type {\n",
       "        vertical-align: middle;\n",
       "    }\n",
       "\n",
       "    .dataframe tbody tr th {\n",
       "        vertical-align: top;\n",
       "    }\n",
       "\n",
       "    .dataframe thead th {\n",
       "        text-align: right;\n",
       "    }\n",
       "</style>\n",
       "<table border=\"1\" class=\"dataframe\">\n",
       "  <thead>\n",
       "    <tr style=\"text-align: right;\">\n",
       "      <th></th>\n",
       "      <th>user_id</th>\n",
       "      <th>item_id</th>\n",
       "      <th>rating</th>\n",
       "      <th>timestampsep</th>\n",
       "    </tr>\n",
       "  </thead>\n",
       "  <tbody>\n",
       "    <tr>\n",
       "      <th>0</th>\n",
       "      <td>196</td>\n",
       "      <td>242</td>\n",
       "      <td>3</td>\n",
       "      <td>881250949</td>\n",
       "    </tr>\n",
       "    <tr>\n",
       "      <th>1</th>\n",
       "      <td>186</td>\n",
       "      <td>302</td>\n",
       "      <td>3</td>\n",
       "      <td>891717742</td>\n",
       "    </tr>\n",
       "    <tr>\n",
       "      <th>2</th>\n",
       "      <td>22</td>\n",
       "      <td>377</td>\n",
       "      <td>1</td>\n",
       "      <td>878887116</td>\n",
       "    </tr>\n",
       "    <tr>\n",
       "      <th>3</th>\n",
       "      <td>244</td>\n",
       "      <td>51</td>\n",
       "      <td>2</td>\n",
       "      <td>880606923</td>\n",
       "    </tr>\n",
       "    <tr>\n",
       "      <th>4</th>\n",
       "      <td>166</td>\n",
       "      <td>346</td>\n",
       "      <td>1</td>\n",
       "      <td>886397596</td>\n",
       "    </tr>\n",
       "    <tr>\n",
       "      <th>...</th>\n",
       "      <td>...</td>\n",
       "      <td>...</td>\n",
       "      <td>...</td>\n",
       "      <td>...</td>\n",
       "    </tr>\n",
       "    <tr>\n",
       "      <th>99995</th>\n",
       "      <td>880</td>\n",
       "      <td>476</td>\n",
       "      <td>3</td>\n",
       "      <td>880175444</td>\n",
       "    </tr>\n",
       "    <tr>\n",
       "      <th>99996</th>\n",
       "      <td>716</td>\n",
       "      <td>204</td>\n",
       "      <td>5</td>\n",
       "      <td>879795543</td>\n",
       "    </tr>\n",
       "    <tr>\n",
       "      <th>99997</th>\n",
       "      <td>276</td>\n",
       "      <td>1090</td>\n",
       "      <td>1</td>\n",
       "      <td>874795795</td>\n",
       "    </tr>\n",
       "    <tr>\n",
       "      <th>99998</th>\n",
       "      <td>13</td>\n",
       "      <td>225</td>\n",
       "      <td>2</td>\n",
       "      <td>882399156</td>\n",
       "    </tr>\n",
       "    <tr>\n",
       "      <th>99999</th>\n",
       "      <td>12</td>\n",
       "      <td>203</td>\n",
       "      <td>3</td>\n",
       "      <td>879959583</td>\n",
       "    </tr>\n",
       "  </tbody>\n",
       "</table>\n",
       "<p>100000 rows × 4 columns</p>\n",
       "</div>"
      ],
      "text/plain": [
       "       user_id  item_id  rating  timestampsep\n",
       "0          196      242       3     881250949\n",
       "1          186      302       3     891717742\n",
       "2           22      377       1     878887116\n",
       "3          244       51       2     880606923\n",
       "4          166      346       1     886397596\n",
       "...        ...      ...     ...           ...\n",
       "99995      880      476       3     880175444\n",
       "99996      716      204       5     879795543\n",
       "99997      276     1090       1     874795795\n",
       "99998       13      225       2     882399156\n",
       "99999       12      203       3     879959583\n",
       "\n",
       "[100000 rows x 4 columns]"
      ]
     },
     "execution_count": 6,
     "metadata": {},
     "output_type": "execute_result"
    }
   ],
   "source": [
    "users.data_pd"
   ]
  },
  {
   "cell_type": "code",
   "execution_count": 7,
   "id": "7f28fb08-98e4-45d9-b5e5-a81d32a32c54",
   "metadata": {},
   "outputs": [
    {
     "data": {
      "text/plain": [
       "3.6296296296296298"
      ]
     },
     "execution_count": 7,
     "metadata": {},
     "output_type": "execute_result"
    }
   ],
   "source": [
    "users.rating_mean_user(191) # calcula a média de avaliações de um usuário informado"
   ]
  },
  {
   "cell_type": "code",
   "execution_count": 8,
   "id": "5cdfcc16-6ec1-4fcc-926d-a170d754da80",
   "metadata": {
    "tags": []
   },
   "outputs": [
    {
     "data": {
      "text/plain": [
       "user_id                1\n",
       "age                   24\n",
       "gender                 M\n",
       "occupation    technician\n",
       "zip_code           85711\n",
       "Name: 0, dtype: object"
      ]
     },
     "execution_count": 8,
     "metadata": {},
     "output_type": "execute_result"
    }
   ],
   "source": [
    "users.users_pd.iloc[0]"
   ]
  },
  {
   "cell_type": "code",
   "execution_count": 9,
   "id": "6b409e30-8abe-4c7e-887e-46187a71d685",
   "metadata": {},
   "outputs": [
    {
     "data": {
      "text/plain": [
       "0      24\n",
       "1      53\n",
       "2      23\n",
       "3      24\n",
       "4      33\n",
       "       ..\n",
       "938    26\n",
       "939    32\n",
       "940    20\n",
       "941    48\n",
       "942    22\n",
       "Name: age, Length: 943, dtype: int64"
      ]
     },
     "execution_count": 9,
     "metadata": {},
     "output_type": "execute_result"
    }
   ],
   "source": [
    "users.users_pd['age']"
   ]
  },
  {
   "cell_type": "code",
   "execution_count": 10,
   "id": "1cd3e944-b828-49b5-8cc5-4a6dfee2b781",
   "metadata": {},
   "outputs": [
    {
     "data": {
      "text/plain": [
       "0      24\n",
       "1      53\n",
       "2      23\n",
       "3      24\n",
       "4      33\n",
       "       ..\n",
       "938    26\n",
       "939    32\n",
       "940    20\n",
       "941    48\n",
       "942    22\n",
       "Name: age, Length: 943, dtype: int64"
      ]
     },
     "execution_count": 10,
     "metadata": {},
     "output_type": "execute_result"
    }
   ],
   "source": [
    "users.age"
   ]
  },
  {
   "cell_type": "code",
   "execution_count": 11,
   "id": "51b3e715-eae9-4586-8e32-af5f99600b87",
   "metadata": {},
   "outputs": [
    {
     "data": {
      "text/plain": [
       "user_id                   7\n",
       "age                      57\n",
       "gender                    M\n",
       "occupation    administrator\n",
       "zip_code              91344\n",
       "Name: 6, dtype: object"
      ]
     },
     "execution_count": 11,
     "metadata": {},
     "output_type": "execute_result"
    }
   ],
   "source": [
    "users.dados_user(7)"
   ]
  },
  {
   "cell_type": "markdown",
   "id": "f0623d30-fbc4-4ac3-9975-fe7500fed8e3",
   "metadata": {},
   "source": [
    "2. Classe Filme contendo os dados relativos ao filme (arquivo u.item) e com as seguintes responsabilidades:\n",
    "\n",
    "* Cálculo da avaliação média;"
   ]
  },
  {
   "cell_type": "code",
   "execution_count": 12,
   "id": "149e4334-6a1d-4277-b506-2e5e2d46bd98",
   "metadata": {},
   "outputs": [],
   "source": [
    "class Filme:\n",
    "    \n",
    "    def __init__(self,  dados_film, columns_film, separator_film, dados_rat, columns_rat, separator_rat):\n",
    "        self.films_pd = pd.read_csv(dados_film, names=columns_film, sep=separator_film)\n",
    "        self.data_pd = pd.read_csv(dados_rat, names=columns_rat, sep=separator_rat)\n",
    "    \n",
    "    def dados_film(self, item):\n",
    "        return self.films_pd.iloc[(item-1)]\n",
    "    \n",
    "    def rating_mean_film(self, item):\n",
    "        mean_user = self.data_pd[self.data_pd['item_id']==item]['rating'].mean()\n",
    "        return mean_user\n",
    "    \n",
    "    def genre_film(self, item):\n",
    "        genre = list(self.films_pd.columns)[5:]\n",
    "        genre_item = []\n",
    "\n",
    "        for i in genre:\n",
    "            if self.films_pd[i].iloc[item-1] == 1:\n",
    "                genre_item.append(i)\n",
    "        \n",
    "        return genre_item\n",
    "    "
   ]
  },
  {
   "cell_type": "code",
   "execution_count": 13,
   "id": "d6dac599-a00c-43ea-a74f-1ca640d013bd",
   "metadata": {},
   "outputs": [],
   "source": [
    "filmes = Filme(dados_film='u.item', columns_film=['movie_id', 'movie_title', 'release_date', 'video_release_date','IMDb_URL', 'unknown', 'Action', \n",
    "                                  'Adventure', 'Animation', 'Childrens', 'Comedy', 'Crime', 'Documentary', 'Drama', 'Fantasy','Film_Noir', \n",
    "                                  'Horror', 'Musical', 'Mystery', 'Romance', 'Sci_Fi', 'Thriller', 'War', 'Western'], separator_film='|',\n",
    "               dados_rat='u.data', columns_rat=['user_id', 'item_id', 'rating', 'timestampsep'], separator_rat='\\t')"
   ]
  },
  {
   "cell_type": "code",
   "execution_count": 14,
   "id": "a1a83161-ad0a-43d4-9ada-03be05fbcd54",
   "metadata": {},
   "outputs": [
    {
     "data": {
      "text/plain": [
       "movie_id                                                              2\n",
       "movie_title                                            GoldenEye (1995)\n",
       "release_date                                                01-Jan-1995\n",
       "video_release_date                                                  NaN\n",
       "IMDb_URL              http://us.imdb.com/M/title-exact?GoldenEye%20(...\n",
       "unknown                                                               0\n",
       "Action                                                                1\n",
       "Adventure                                                             1\n",
       "Animation                                                             0\n",
       "Childrens                                                             0\n",
       "Comedy                                                                0\n",
       "Crime                                                                 0\n",
       "Documentary                                                           0\n",
       "Drama                                                                 0\n",
       "Fantasy                                                               0\n",
       "Film_Noir                                                             0\n",
       "Horror                                                                0\n",
       "Musical                                                               0\n",
       "Mystery                                                               0\n",
       "Romance                                                               0\n",
       "Sci_Fi                                                                0\n",
       "Thriller                                                              1\n",
       "War                                                                   0\n",
       "Western                                                               0\n",
       "Name: 1, dtype: object"
      ]
     },
     "execution_count": 14,
     "metadata": {},
     "output_type": "execute_result"
    }
   ],
   "source": [
    "filmes.dados_film(2)"
   ]
  },
  {
   "cell_type": "code",
   "execution_count": 15,
   "id": "d51550c1-9138-453f-b8fb-50b81eb0e67d",
   "metadata": {},
   "outputs": [
    {
     "data": {
      "text/plain": [
       "3.8783185840707963"
      ]
     },
     "execution_count": 15,
     "metadata": {},
     "output_type": "execute_result"
    }
   ],
   "source": [
    "filmes.rating_mean_film(1)  # média de avaliação de um dado usuário"
   ]
  },
  {
   "cell_type": "markdown",
   "id": "c6c3cb0f-aa9f-41f9-9439-dd34b60c423f",
   "metadata": {},
   "source": [
    "3. Classe Gênero contendo os dados relacionados ao gênero do filme (arquivo u.genre)\n",
    "\n",
    "Não se adicionou uma nova classe genero, criou-se um método que retorna o genero de um dado item_id (`genre_film`)"
   ]
  },
  {
   "cell_type": "code",
   "execution_count": 16,
   "id": "fa53e678-836f-4d45-b4b0-2e201226c057",
   "metadata": {},
   "outputs": [
    {
     "data": {
      "text/plain": [
       "['Animation', 'Childrens', 'Comedy']"
      ]
     },
     "execution_count": 16,
     "metadata": {},
     "output_type": "execute_result"
    }
   ],
   "source": [
    "filmes.genre_film(1)"
   ]
  },
  {
   "cell_type": "markdown",
   "id": "5ec9920e-cd81-4ca9-979b-bd7ce8ef8210",
   "metadata": {},
   "source": [
    "4. Classe Profissão contendo dados relacionados a ocupação dos usuários;\n",
    "\n",
    "\n",
    "Não se adicionou uma nova classe profissões, criou-se um método que retorna o genero de um dado user_id (`occ_user`)"
   ]
  },
  {
   "cell_type": "code",
   "execution_count": 17,
   "id": "00fab78b-9012-4dbd-89c1-b234443a5eb2",
   "metadata": {},
   "outputs": [
    {
     "data": {
      "text/plain": [
       "'technician'"
      ]
     },
     "execution_count": 17,
     "metadata": {},
     "output_type": "execute_result"
    }
   ],
   "source": [
    "users.occ_user(1)"
   ]
  },
  {
   "cell_type": "markdown",
   "id": "79e3e0ef-b50e-4ad6-8a3a-53e4229c2e04",
   "metadata": {},
   "source": [
    "5. Classe Avaliação contendo dados das avaliações dos usuários (arquivo u.data);"
   ]
  },
  {
   "cell_type": "code",
   "execution_count": 18,
   "id": "48386281-614a-4a76-aa93-1ed3c467e7f3",
   "metadata": {},
   "outputs": [
    {
     "data": {
      "text/plain": [
       "{242: 3,\n",
       " 393: 4,\n",
       " 381: 4,\n",
       " 251: 3,\n",
       " 655: 5,\n",
       " 67: 5,\n",
       " 306: 4,\n",
       " 238: 4,\n",
       " 663: 5,\n",
       " 111: 4,\n",
       " 580: 2,\n",
       " 25: 4,\n",
       " 286: 5,\n",
       " 94: 3,\n",
       " 692: 5,\n",
       " 8: 5,\n",
       " 428: 4,\n",
       " 1118: 4,\n",
       " 70: 3,\n",
       " 66: 3,\n",
       " 257: 2,\n",
       " 108: 4,\n",
       " 202: 3,\n",
       " 340: 3,\n",
       " 287: 3,\n",
       " 116: 3,\n",
       " 382: 4,\n",
       " 285: 5,\n",
       " 1241: 3,\n",
       " 1007: 4,\n",
       " 411: 4,\n",
       " 153: 5,\n",
       " 13: 2,\n",
       " 762: 3,\n",
       " 173: 2,\n",
       " 1022: 4,\n",
       " 845: 4,\n",
       " 269: 3,\n",
       " 110: 1}"
      ]
     },
     "execution_count": 18,
     "metadata": {},
     "output_type": "execute_result"
    }
   ],
   "source": [
    "users.rating_user(196) # retorna um dicionário com o item_id e a nota do usuário informado"
   ]
  },
  {
   "cell_type": "markdown",
   "id": "f78ec257-c291-42aa-b4aa-8e163b996bc7",
   "metadata": {},
   "source": [
    "6. Classe SistemaDeRecomendação com as seguintes responsabilidades:\n",
    "\n",
    "* Manter lista de usuários;\n",
    "* Manter lista de filmes;\n",
    "* Manter Lista de profissões;\n",
    "* Manter Lista de gêneros;\n",
    "* Adicionar novo usuário;\n",
    "* Adicionar novo filme;\n",
    "* Adicionar nova avaliação de filme;\n"
   ]
  },
  {
   "cell_type": "code",
   "execution_count": null,
   "id": "d694de16-c971-460f-8447-7eec737f0da1",
   "metadata": {},
   "outputs": [],
   "source": []
  }
 ],
 "metadata": {
  "kernelspec": {
   "display_name": "Python 3",
   "language": "python",
   "name": "python3"
  },
  "language_info": {
   "codemirror_mode": {
    "name": "ipython",
    "version": 3
   },
   "file_extension": ".py",
   "mimetype": "text/x-python",
   "name": "python",
   "nbconvert_exporter": "python",
   "pygments_lexer": "ipython3",
   "version": "3.9.4"
  }
 },
 "nbformat": 4,
 "nbformat_minor": 5
}
