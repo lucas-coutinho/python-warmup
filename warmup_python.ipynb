{
 "cells": [
  {
   "cell_type": "markdown",
   "id": "f2faa81d-7953-4175-a9a6-3f026ac70276",
   "metadata": {},
   "source": [
    "# Python warmup\n",
    "\n",
    "Para esse conjunto de exercícios vamos utilizar o dataset [MovieLens 100k](https://grouplens.org/datasets/movielens/100k/)\n",
    "\n",
    "Os conjuntos de dados do MovieLens foram coletados pelo GroupLens Research Project na Universidade de Minnesota.\n",
    "\n",
    "Este conjunto de dados consiste em:\n",
    "\n",
    "* 100.000 classificações (1-5) de 943 usuários em 1.682 filmes.\n",
    "* Cada usuário classificou pelo menos 20 filmes.\n",
    "* Informações demográficas simples para os usuários (idade, sexo, ocupação, CEP)\n",
    "\n",
    "Os dados foram coletados por meio do site MovieLens (movielens.umn.edu) durante o período de sete meses a partir de 19 de setembro, 1997 a 22 de abril de 1998. Estes dados foram limpos - usuários que tiveram menos de 20 avaliações ou não tiveram dados demográficos completos informações foram removidas deste conjunto de dados. Descrições detalhadas de o arquivo de dados pode ser encontrado no final deste arquivo.\n",
    "\n",
    "Utilizando esse Dataset responda as seguintes perguntas. Você deverá utilizar somente as bibliotecas padrões do python, i.e., nenhuma nova biblioteca deve ser adicionada para implementar suas soluções (isso é um warmup de python!)"
   ]
  },
  {
   "cell_type": "markdown",
   "id": "8be89e2b-e8f0-42df-89cd-dfc35adf4122",
   "metadata": {},
   "source": [
    "1. O(s) usuário(s) mais crítico(s) na avaliação de filmes.\n",
    "* Encontrar aquele id cujas notas são, em média, as menores;\n"
   ]
  },
  {
   "cell_type": "code",
   "execution_count": 1,
   "id": "1c8774b2-0e1e-4d48-ac44-0d16160ef11e",
   "metadata": {},
   "outputs": [],
   "source": [
    "import os"
   ]
  },
  {
   "cell_type": "code",
   "execution_count": 2,
   "id": "1f66ad80-f89c-4972-a698-24adf146bc28",
   "metadata": {},
   "outputs": [],
   "source": [
    "os.chdir('ml-100k/')"
   ]
  },
  {
   "cell_type": "code",
   "execution_count": 3,
   "id": "000edb99-7301-4782-bfa3-4ac8c243585b",
   "metadata": {},
   "outputs": [],
   "source": [
    "f = open('u.data', 'r')"
   ]
  },
  {
   "cell_type": "code",
   "execution_count": 4,
   "id": "85f50aa0-a81c-4d44-b23c-9988b234421a",
   "metadata": {},
   "outputs": [],
   "source": [
    "data_list = f.readlines()"
   ]
  },
  {
   "cell_type": "code",
   "execution_count": 5,
   "id": "0310bd42-1391-428b-917e-d63396a3b8f9",
   "metadata": {},
   "outputs": [
    {
     "data": {
      "text/plain": [
       "'196\\t242\\t3\\t881250949\\n'"
      ]
     },
     "execution_count": 5,
     "metadata": {},
     "output_type": "execute_result"
    }
   ],
   "source": [
    "data_list[0]"
   ]
  },
  {
   "cell_type": "code",
   "execution_count": 6,
   "id": "cd3e196e-c209-44d9-b99d-af66a2a76b79",
   "metadata": {},
   "outputs": [],
   "source": [
    "dados_split =[]\n",
    "\n",
    "for i in range(len(data_list)):\n",
    "    aux = data_list[i].replace(\"\\n\",\"\")\n",
    "    dados_split.append(aux.split(\"\\t\"))"
   ]
  },
  {
   "cell_type": "code",
   "execution_count": 7,
   "id": "fb404de9-0afb-4186-beae-98355d7d3942",
   "metadata": {},
   "outputs": [
    {
     "data": {
      "text/plain": [
       "[['196', '242', '3', '881250949'],\n",
       " ['186', '302', '3', '891717742'],\n",
       " ['22', '377', '1', '878887116'],\n",
       " ['244', '51', '2', '880606923'],\n",
       " ['166', '346', '1', '886397596']]"
      ]
     },
     "execution_count": 7,
     "metadata": {},
     "output_type": "execute_result"
    }
   ],
   "source": [
    "dados_split[0:5]"
   ]
  },
  {
   "cell_type": "code",
   "execution_count": 8,
   "id": "251db5e1-f80c-470f-b4ce-aa6d2a31afe3",
   "metadata": {},
   "outputs": [
    {
     "data": {
      "text/plain": [
       "100000"
      ]
     },
     "execution_count": 8,
     "metadata": {},
     "output_type": "execute_result"
    }
   ],
   "source": [
    "len(dados_split)"
   ]
  },
  {
   "cell_type": "code",
   "execution_count": 9,
   "id": "354662c4-bfa9-4a07-952b-050f6aec6e43",
   "metadata": {},
   "outputs": [
    {
     "data": {
      "text/plain": [
       "943"
      ]
     },
     "execution_count": 9,
     "metadata": {},
     "output_type": "execute_result"
    }
   ],
   "source": [
    "# lista de usuários\n",
    "\n",
    "users_id_list = []\n",
    "\n",
    "for i in range(len(dados_split)):\n",
    "    \n",
    "    user = dados_split[i][0]\n",
    "    \n",
    "    if user not in users_id_list:\n",
    "        users_id_list.append(user)\n",
    "        \n",
    "len(users_id_list)"
   ]
  },
  {
   "cell_type": "code",
   "execution_count": 10,
   "id": "2135b7f1-9ee2-4f18-9bfe-63ce46c48dfd",
   "metadata": {},
   "outputs": [],
   "source": [
    "users_id_dict = {}\n",
    "average_rat = []\n",
    "\n",
    "for i in users_id_list:\n",
    "    \n",
    "    rating_list = []\n",
    "    \n",
    "    for j in range(len(dados_split)):\n",
    "    \n",
    "        if i == dados_split[j][0]:\n",
    "            rating_list.append(int(dados_split[j][2]))\n",
    "        \n",
    "    users_id_dict[i] = rating_list\n",
    "    average_rat.append(sum(rating_list)/len(rating_list))"
   ]
  },
  {
   "cell_type": "code",
   "execution_count": 11,
   "id": "16827fe5-832d-41ee-bebd-d503e01c4f06",
   "metadata": {},
   "outputs": [
    {
     "name": "stdout",
     "output_type": "stream",
     "text": [
      "Numero de usuários com a menor nota = 1\n",
      "user_id com menor(es) rating médio (nota média = 1.4919540229885058): ['181']\n"
     ]
    }
   ],
   "source": [
    "# usuário mais crítico\n",
    "user_id_critico = []\n",
    "cont = 0\n",
    "index = 0\n",
    "\n",
    "for i in average_rat:\n",
    "    \n",
    "    if i == min(average_rat):\n",
    "        cont+=1\n",
    "        user_id_critico.append(users_id_list[index])\n",
    "    \n",
    "    index+=1\n",
    "        \n",
    "print(f\"Numero de usuários com a menor nota = {cont}\")\n",
    "          \n",
    "print(f\"user_id com menor(es) rating médio (nota média = {min(average_rat)}): {user_id_critico}\")\n",
    "\n"
   ]
  },
  {
   "cell_type": "code",
   "execution_count": 12,
   "id": "de971045-ed65-4702-af9e-d07fd41fc225",
   "metadata": {
    "collapsed": true,
    "jupyter": {
     "outputs_hidden": true
    },
    "tags": []
   },
   "outputs": [
    {
     "data": {
      "text/plain": [
       "[1,\n",
       " 4,\n",
       " 2,\n",
       " 1,\n",
       " 2,\n",
       " 1,\n",
       " 1,\n",
       " 2,\n",
       " 1,\n",
       " 1,\n",
       " 1,\n",
       " 1,\n",
       " 2,\n",
       " 4,\n",
       " 2,\n",
       " 1,\n",
       " 1,\n",
       " 1,\n",
       " 2,\n",
       " 4,\n",
       " 1,\n",
       " 3,\n",
       " 1,\n",
       " 1,\n",
       " 1,\n",
       " 1,\n",
       " 1,\n",
       " 3,\n",
       " 3,\n",
       " 1,\n",
       " 1,\n",
       " 1,\n",
       " 1,\n",
       " 1,\n",
       " 1,\n",
       " 1,\n",
       " 1,\n",
       " 3,\n",
       " 2,\n",
       " 1,\n",
       " 1,\n",
       " 3,\n",
       " 1,\n",
       " 1,\n",
       " 2,\n",
       " 1,\n",
       " 1,\n",
       " 3,\n",
       " 1,\n",
       " 1,\n",
       " 1,\n",
       " 1,\n",
       " 1,\n",
       " 2,\n",
       " 1,\n",
       " 2,\n",
       " 4,\n",
       " 1,\n",
       " 2,\n",
       " 3,\n",
       " 1,\n",
       " 1,\n",
       " 1,\n",
       " 1,\n",
       " 1,\n",
       " 1,\n",
       " 1,\n",
       " 1,\n",
       " 1,\n",
       " 2,\n",
       " 1,\n",
       " 1,\n",
       " 1,\n",
       " 1,\n",
       " 2,\n",
       " 1,\n",
       " 1,\n",
       " 1,\n",
       " 1,\n",
       " 2,\n",
       " 1,\n",
       " 1,\n",
       " 1,\n",
       " 1,\n",
       " 1,\n",
       " 1,\n",
       " 1,\n",
       " 1,\n",
       " 3,\n",
       " 3,\n",
       " 4,\n",
       " 1,\n",
       " 3,\n",
       " 1,\n",
       " 1,\n",
       " 1,\n",
       " 1,\n",
       " 1,\n",
       " 2,\n",
       " 1,\n",
       " 1,\n",
       " 1,\n",
       " 1,\n",
       " 1,\n",
       " 2,\n",
       " 1,\n",
       " 1,\n",
       " 1,\n",
       " 1,\n",
       " 1,\n",
       " 1,\n",
       " 1,\n",
       " 2,\n",
       " 2,\n",
       " 1,\n",
       " 1,\n",
       " 3,\n",
       " 1,\n",
       " 1,\n",
       " 1,\n",
       " 2,\n",
       " 1,\n",
       " 1,\n",
       " 3,\n",
       " 1,\n",
       " 1,\n",
       " 2,\n",
       " 3,\n",
       " 1,\n",
       " 2,\n",
       " 1,\n",
       " 3,\n",
       " 3,\n",
       " 3,\n",
       " 1,\n",
       " 4,\n",
       " 1,\n",
       " 1,\n",
       " 1,\n",
       " 3,\n",
       " 1,\n",
       " 1,\n",
       " 2,\n",
       " 1,\n",
       " 2,\n",
       " 1,\n",
       " 1,\n",
       " 1,\n",
       " 1,\n",
       " 1,\n",
       " 1,\n",
       " 1,\n",
       " 5,\n",
       " 1,\n",
       " 1,\n",
       " 1,\n",
       " 1,\n",
       " 1,\n",
       " 1,\n",
       " 1,\n",
       " 1,\n",
       " 1,\n",
       " 1,\n",
       " 1,\n",
       " 2,\n",
       " 1,\n",
       " 1,\n",
       " 3,\n",
       " 1,\n",
       " 1,\n",
       " 1,\n",
       " 1,\n",
       " 1,\n",
       " 1,\n",
       " 1,\n",
       " 1,\n",
       " 1,\n",
       " 1,\n",
       " 2,\n",
       " 1,\n",
       " 1,\n",
       " 1,\n",
       " 1,\n",
       " 1,\n",
       " 4,\n",
       " 1,\n",
       " 1,\n",
       " 1,\n",
       " 2,\n",
       " 2,\n",
       " 1,\n",
       " 3,\n",
       " 1,\n",
       " 1,\n",
       " 2,\n",
       " 1,\n",
       " 1,\n",
       " 2,\n",
       " 4,\n",
       " 2,\n",
       " 1,\n",
       " 1,\n",
       " 1,\n",
       " 1,\n",
       " 1,\n",
       " 1,\n",
       " 1,\n",
       " 1,\n",
       " 1,\n",
       " 1,\n",
       " 1,\n",
       " 2,\n",
       " 3,\n",
       " 2,\n",
       " 1,\n",
       " 1,\n",
       " 2,\n",
       " 2,\n",
       " 2,\n",
       " 2,\n",
       " 1,\n",
       " 1,\n",
       " 1,\n",
       " 1,\n",
       " 1,\n",
       " 1,\n",
       " 2,\n",
       " 1,\n",
       " 3,\n",
       " 1,\n",
       " 1,\n",
       " 3,\n",
       " 1,\n",
       " 1,\n",
       " 1,\n",
       " 1,\n",
       " 4,\n",
       " 1,\n",
       " 2,\n",
       " 3,\n",
       " 1,\n",
       " 1,\n",
       " 1,\n",
       " 1,\n",
       " 2,\n",
       " 2,\n",
       " 4,\n",
       " 2,\n",
       " 3,\n",
       " 1,\n",
       " 1,\n",
       " 2,\n",
       " 2,\n",
       " 1,\n",
       " 1,\n",
       " 1,\n",
       " 1,\n",
       " 1,\n",
       " 1,\n",
       " 1,\n",
       " 3,\n",
       " 2,\n",
       " 2,\n",
       " 1,\n",
       " 2,\n",
       " 1,\n",
       " 1,\n",
       " 1,\n",
       " 1,\n",
       " 3,\n",
       " 1,\n",
       " 4,\n",
       " 1,\n",
       " 1,\n",
       " 2,\n",
       " 1,\n",
       " 1,\n",
       " 1,\n",
       " 1,\n",
       " 2,\n",
       " 1,\n",
       " 1,\n",
       " 3,\n",
       " 1,\n",
       " 4,\n",
       " 1,\n",
       " 1,\n",
       " 1,\n",
       " 1,\n",
       " 2,\n",
       " 2,\n",
       " 1,\n",
       " 2,\n",
       " 1,\n",
       " 1,\n",
       " 1,\n",
       " 1,\n",
       " 1,\n",
       " 1,\n",
       " 2,\n",
       " 1,\n",
       " 3,\n",
       " 1,\n",
       " 1,\n",
       " 1,\n",
       " 1,\n",
       " 1,\n",
       " 1,\n",
       " 2,\n",
       " 2,\n",
       " 1,\n",
       " 1,\n",
       " 1,\n",
       " 3,\n",
       " 1,\n",
       " 2,\n",
       " 1,\n",
       " 2,\n",
       " 1,\n",
       " 1,\n",
       " 2,\n",
       " 1,\n",
       " 1,\n",
       " 4,\n",
       " 1,\n",
       " 1,\n",
       " 1,\n",
       " 1,\n",
       " 1,\n",
       " 1,\n",
       " 4,\n",
       " 1,\n",
       " 2,\n",
       " 1,\n",
       " 1,\n",
       " 1,\n",
       " 1,\n",
       " 2,\n",
       " 1,\n",
       " 2,\n",
       " 1,\n",
       " 3,\n",
       " 1,\n",
       " 3,\n",
       " 2,\n",
       " 1,\n",
       " 1,\n",
       " 1,\n",
       " 1,\n",
       " 2,\n",
       " 1,\n",
       " 2,\n",
       " 1,\n",
       " 1,\n",
       " 2,\n",
       " 1,\n",
       " 4,\n",
       " 1,\n",
       " 1,\n",
       " 1,\n",
       " 1,\n",
       " 1,\n",
       " 1,\n",
       " 4,\n",
       " 2,\n",
       " 1,\n",
       " 1,\n",
       " 3,\n",
       " 1,\n",
       " 2,\n",
       " 2,\n",
       " 1,\n",
       " 1,\n",
       " 1,\n",
       " 1,\n",
       " 1,\n",
       " 1,\n",
       " 1,\n",
       " 1,\n",
       " 3,\n",
       " 1,\n",
       " 4,\n",
       " 2,\n",
       " 1,\n",
       " 1,\n",
       " 3,\n",
       " 2,\n",
       " 1,\n",
       " 1,\n",
       " 2,\n",
       " 1,\n",
       " 2,\n",
       " 1,\n",
       " 2,\n",
       " 2,\n",
       " 1,\n",
       " 1,\n",
       " 2,\n",
       " 1,\n",
       " 2,\n",
       " 1,\n",
       " 2,\n",
       " 2,\n",
       " 1,\n",
       " 1,\n",
       " 1,\n",
       " 1,\n",
       " 2,\n",
       " 1,\n",
       " 1,\n",
       " 1,\n",
       " 1,\n",
       " 1,\n",
       " 1,\n",
       " 1,\n",
       " 1,\n",
       " 1,\n",
       " 2,\n",
       " 2,\n",
       " 1,\n",
       " 1,\n",
       " 1,\n",
       " 1,\n",
       " 2,\n",
       " 1,\n",
       " 1,\n",
       " 1,\n",
       " 1,\n",
       " 1,\n",
       " 5,\n",
       " 1,\n",
       " 4,\n",
       " 3,\n",
       " 2,\n",
       " 1]"
      ]
     },
     "execution_count": 12,
     "metadata": {},
     "output_type": "execute_result"
    }
   ],
   "source": [
    "users_id_dict[\"181\"]"
   ]
  },
  {
   "cell_type": "markdown",
   "id": "385d23ce-7a3c-4647-b040-d84423ad8a26",
   "metadata": {
    "tags": []
   },
   "source": [
    "2. O(s) filme(s) mais mal avaliado(s) pelos usuários."
   ]
  },
  {
   "cell_type": "code",
   "execution_count": 13,
   "id": "9595dd92-7b96-44f3-a24e-660103ffef8c",
   "metadata": {},
   "outputs": [
    {
     "data": {
      "text/plain": [
       "1682"
      ]
     },
     "execution_count": 13,
     "metadata": {},
     "output_type": "execute_result"
    }
   ],
   "source": [
    "# lista de filmes\n",
    "\n",
    "item_id_list = []\n",
    "\n",
    "for i in range(len(dados_split)):\n",
    "    \n",
    "    item = dados_split[i][1]\n",
    "    \n",
    "    if item not in item_id_list:\n",
    "        item_id_list.append(item)\n",
    "\n",
    "len(item_id_list)"
   ]
  },
  {
   "cell_type": "code",
   "execution_count": 14,
   "id": "d91d66bc-77c1-4d2c-af38-8b6c0bcb5294",
   "metadata": {},
   "outputs": [],
   "source": [
    "item_id_dict = {}\n",
    "averageitem_rat = []\n",
    "\n",
    "for i in item_id_list:\n",
    "    \n",
    "    itemrating_list = []\n",
    "    \n",
    "    for j in range(len(dados_split)):\n",
    "    \n",
    "        if i == dados_split[j][1]:\n",
    "            itemrating_list.append(int(dados_split[j][2]))\n",
    "        \n",
    "    item_id_dict[i] = itemrating_list\n",
    "    averageitem_rat.append(sum(itemrating_list)/len(itemrating_list))"
   ]
  },
  {
   "cell_type": "code",
   "execution_count": 15,
   "id": "6d8d1c57-8205-4c59-855e-fb71fa15e74f",
   "metadata": {},
   "outputs": [
    {
     "data": {
      "text/plain": [
       "1682"
      ]
     },
     "execution_count": 15,
     "metadata": {},
     "output_type": "execute_result"
    }
   ],
   "source": [
    "len(averageitem_rat)"
   ]
  },
  {
   "cell_type": "code",
   "execution_count": 16,
   "id": "0be1bc15-c7cd-4df1-a925-82e4ab199af5",
   "metadata": {},
   "outputs": [
    {
     "data": {
      "text/plain": [
       "540"
      ]
     },
     "execution_count": 16,
     "metadata": {},
     "output_type": "execute_result"
    }
   ],
   "source": [
    "item_id_list.index('162')"
   ]
  },
  {
   "cell_type": "code",
   "execution_count": 17,
   "id": "d647518b-58cd-4c0f-aaf9-716e9c280105",
   "metadata": {},
   "outputs": [
    {
     "data": {
      "text/plain": [
       "'162'"
      ]
     },
     "execution_count": 17,
     "metadata": {},
     "output_type": "execute_result"
    }
   ],
   "source": [
    "item_id_list[540]"
   ]
  },
  {
   "cell_type": "code",
   "execution_count": 18,
   "id": "1998d455-cd14-4ecc-a8e1-9a5791e4cc17",
   "metadata": {},
   "outputs": [
    {
     "data": {
      "text/plain": [
       "3.556603773584906"
      ]
     },
     "execution_count": 18,
     "metadata": {},
     "output_type": "execute_result"
    }
   ],
   "source": [
    "averageitem_rat[540]"
   ]
  },
  {
   "cell_type": "code",
   "execution_count": 19,
   "id": "b0765ebb-193a-4460-9779-6497fa4dfe52",
   "metadata": {},
   "outputs": [
    {
     "name": "stdout",
     "output_type": "stream",
     "text": [
      "Numero de filmes com a menor nota = 70\n",
      "Filme(s) com menor(es) rating médio (nota média = 1.0): ['439', '858', '1334', '1348', '1320', '314', '1364', '1493', '830', '437', '784', '1373', '1309', '1374', '1582', '1343', '1432', '599', '1354', '1561', '1565', '1563', '852', '1557', '1562', '1586', '1580', '1363', '1308', '1339', '1566', '1349', '1359', '1587', '1571', '1575', '1579', '1559', '1576', '1569', '1568', '1408', '1340', '1601', '1583', '1486', '1570', '1572', '1548', '1654', '1661', '1621', '1618', '1581', '1584', '1329', '1494', '1577', '1678', '1567', '1546', '1366', '1564', '1574', '1671', '1325', '1341', '1352', '1626', '1659']\n"
     ]
    }
   ],
   "source": [
    "# Pior filmes avaliados\n",
    "\n",
    "item_id_critico = []\n",
    "cont = 0\n",
    "index = 0\n",
    "\n",
    "for i in averageitem_rat:\n",
    "    \n",
    "    if i == min(averageitem_rat):\n",
    "        cont+=1\n",
    "        item_id_critico.append(item_id_list[index])\n",
    "    \n",
    "    index+=1\n",
    "        \n",
    "print(f\"Numero de filmes com a menor nota = {cont}\")\n",
    "          \n",
    "print(f\"Filme(s) com menor(es) rating médio (nota média = {min(averageitem_rat)}): {item_id_critico}\")\n"
   ]
  },
  {
   "cell_type": "markdown",
   "id": "e3ff0c40-e622-471b-8de7-c7161ee44747",
   "metadata": {},
   "source": [
    "3. O(s) filme(s) mais bem avaliado(s) pelos usuários."
   ]
  },
  {
   "cell_type": "code",
   "execution_count": 20,
   "id": "9ca1a204-ee0e-4cee-b343-46863a1bb804",
   "metadata": {},
   "outputs": [
    {
     "name": "stdout",
     "output_type": "stream",
     "text": [
      "Numero de filmes com a melhor nota = 10\n",
      "Filme(s) com maior(es) rating médio (nota média = 5.0): ['1189', '1500', '814', '1536', '1293', '1599', '1653', '1467', '1122', '1201']\n"
     ]
    }
   ],
   "source": [
    "# Melhores filmes avaliados\n",
    "\n",
    "item_id_bests = []\n",
    "cont = 0\n",
    "index = 0\n",
    "\n",
    "for i in averageitem_rat:\n",
    "    \n",
    "    if i == max(averageitem_rat):\n",
    "        cont+=1\n",
    "        item_id_bests.append(item_id_list[index])\n",
    "    \n",
    "    index+=1\n",
    "        \n",
    "print(f\"Numero de filmes com a melhor nota = {cont}\")\n",
    "          \n",
    "print(f\"Filme(s) com maior(es) rating médio (nota média = {max(averageitem_rat)}): {item_id_bests}\")"
   ]
  },
  {
   "cell_type": "code",
   "execution_count": 21,
   "id": "0cf7cd93-88c2-494c-86cc-0290beb6e966",
   "metadata": {},
   "outputs": [
    {
     "data": {
      "text/plain": [
       "[5, 5, 5]"
      ]
     },
     "execution_count": 21,
     "metadata": {},
     "output_type": "execute_result"
    }
   ],
   "source": [
    "item_id_dict[\"1189\"]"
   ]
  },
  {
   "cell_type": "markdown",
   "id": "aa931faa-e035-4e2b-801d-fe93136a9924",
   "metadata": {},
   "source": [
    "4. Média de avaliação para cada gênero de filmes;"
   ]
  },
  {
   "cell_type": "code",
   "execution_count": 22,
   "id": "856943a5-8421-4ae5-9156-24297e1c63bc",
   "metadata": {},
   "outputs": [],
   "source": [
    "f1 = open('u.item', 'r', encoding='ISO-8859-15')"
   ]
  },
  {
   "cell_type": "code",
   "execution_count": 23,
   "id": "c499d07e-50f9-4b81-9196-510668bba538",
   "metadata": {},
   "outputs": [],
   "source": [
    "item_data = f1.readlines()"
   ]
  },
  {
   "cell_type": "code",
   "execution_count": 24,
   "id": "cc5a32c4-00dd-4729-b046-f05f9e869907",
   "metadata": {},
   "outputs": [
    {
     "data": {
      "text/plain": [
       "'1|Toy Story (1995)|01-Jan-1995||http://us.imdb.com/M/title-exact?Toy%20Story%20(1995)|0|0|0|1|1|1|0|0|0|0|0|0|0|0|0|0|0|0|0\\n'"
      ]
     },
     "execution_count": 24,
     "metadata": {},
     "output_type": "execute_result"
    }
   ],
   "source": [
    "item_data[0]"
   ]
  },
  {
   "cell_type": "code",
   "execution_count": 25,
   "id": "4d41e749-ba24-4c5e-af47-bdc30fe8f85a",
   "metadata": {},
   "outputs": [
    {
     "data": {
      "text/plain": [
       "1682"
      ]
     },
     "execution_count": 25,
     "metadata": {},
     "output_type": "execute_result"
    }
   ],
   "source": [
    "items_split =[]\n",
    "\n",
    "for i in range(len(item_data)):\n",
    "    aux = item_data[i].replace(\"\\n\",\"\")\n",
    "    #aux = aux.replace(\"||\",\"|\")\n",
    "    items_split.append(aux.split(\"|\"))\n",
    "\n",
    "len(items_split)"
   ]
  },
  {
   "cell_type": "code",
   "execution_count": 26,
   "id": "0adc2207-7468-4f48-bb40-28f3059be210",
   "metadata": {},
   "outputs": [
    {
     "data": {
      "text/plain": [
       "['1',\n",
       " 'Toy Story (1995)',\n",
       " '01-Jan-1995',\n",
       " '',\n",
       " 'http://us.imdb.com/M/title-exact?Toy%20Story%20(1995)',\n",
       " '0',\n",
       " '0',\n",
       " '0',\n",
       " '1',\n",
       " '1',\n",
       " '1',\n",
       " '0',\n",
       " '0',\n",
       " '0',\n",
       " '0',\n",
       " '0',\n",
       " '0',\n",
       " '0',\n",
       " '0',\n",
       " '0',\n",
       " '0',\n",
       " '0',\n",
       " '0',\n",
       " '0']"
      ]
     },
     "execution_count": 26,
     "metadata": {},
     "output_type": "execute_result"
    }
   ],
   "source": [
    "items_split[0]"
   ]
  },
  {
   "cell_type": "code",
   "execution_count": 27,
   "id": "e999178e-e8d9-4c37-9206-044ab3e83979",
   "metadata": {},
   "outputs": [
    {
     "data": {
      "text/plain": [
       "24"
      ]
     },
     "execution_count": 27,
     "metadata": {},
     "output_type": "execute_result"
    }
   ],
   "source": [
    "len(items_split[0])"
   ]
  },
  {
   "cell_type": "code",
   "execution_count": 28,
   "id": "a07aa625-2194-42b9-9eb4-210e3c22194e",
   "metadata": {},
   "outputs": [],
   "source": [
    "f2 = open('u.genre', 'r')"
   ]
  },
  {
   "cell_type": "code",
   "execution_count": 29,
   "id": "8613fe71-fbfd-4e0c-8732-df9c1c6ef3e1",
   "metadata": {},
   "outputs": [],
   "source": [
    "genre = f2.readlines()[:-1]"
   ]
  },
  {
   "cell_type": "code",
   "execution_count": 30,
   "id": "7e1ea78f-7f11-4328-b93b-ed4d3920f207",
   "metadata": {},
   "outputs": [
    {
     "data": {
      "text/plain": [
       "19"
      ]
     },
     "execution_count": 30,
     "metadata": {},
     "output_type": "execute_result"
    }
   ],
   "source": [
    "genre_list=[]\n",
    "\n",
    "for i in range(len(genre)):\n",
    "    aux = genre[i].replace(\"\\n\",\"\")\n",
    "    genre_list.append(aux.split(\"|\")[0])\n",
    "\n",
    "len(genre_list)"
   ]
  },
  {
   "cell_type": "code",
   "execution_count": 31,
   "id": "f6e6fd10-08d0-4c6e-9710-8e8cfd230b75",
   "metadata": {
    "tags": []
   },
   "outputs": [],
   "source": [
    "genre_dict = {}\n",
    "ind = 0\n",
    "\n",
    "    \n",
    "for k in range(5, len(items_split[0])):\n",
    "\n",
    "    item_list = []\n",
    "        \n",
    "    for j in range(len(items_split)):\n",
    "        #print(k, j)\n",
    "        item_genre = items_split[j][k]\n",
    "            \n",
    "        if item_genre == '1':\n",
    "            item_list.append(items_split[j][0])\n",
    "        \n",
    "    genre_dict[genre_list[ind]] = item_list\n",
    "    ind+=1"
   ]
  },
  {
   "cell_type": "code",
   "execution_count": 32,
   "id": "15ce5858-b186-485c-9641-0fd472cb793e",
   "metadata": {
    "tags": []
   },
   "outputs": [
    {
     "data": {
      "text/plain": [
       "dict_keys(['unknown', 'Action', 'Adventure', 'Animation', \"Children's\", 'Comedy', 'Crime', 'Documentary', 'Drama', 'Fantasy', 'Film-Noir', 'Horror', 'Musical', 'Mystery', 'Romance', 'Sci-Fi', 'Thriller', 'War', 'Western'])"
      ]
     },
     "execution_count": 32,
     "metadata": {},
     "output_type": "execute_result"
    }
   ],
   "source": [
    "genre_dict.keys()"
   ]
  },
  {
   "cell_type": "code",
   "execution_count": 33,
   "id": "b5b9ae76-8539-4b11-88be-9a821660a5ba",
   "metadata": {
    "tags": []
   },
   "outputs": [
    {
     "name": "stdout",
     "output_type": "stream",
     "text": [
      "Média de avaliação por gênero:\n",
      "\n"
     ]
    },
    {
     "data": {
      "text/plain": [
       "{'unknown': 2.2222222222222223,\n",
       " 'Action': 2.966332403758986,\n",
       " 'Adventure': 3.1439673136976105,\n",
       " 'Animation': 3.2988130803823776,\n",
       " \"Children's\": 2.916884891868897,\n",
       " 'Comedy': 3.0005649618406727,\n",
       " 'Crime': 3.2110147495997547,\n",
       " 'Documentary': 3.229273094093941,\n",
       " 'Drama': 3.1873534142973314,\n",
       " 'Fantasy': 2.849830297920943,\n",
       " 'Film-Noir': 3.5483508757184237,\n",
       " 'Horror': 2.730157352996138,\n",
       " 'Musical': 3.376423123539873,\n",
       " 'Mystery': 3.336813932383023,\n",
       " 'Romance': 3.2440490301647995,\n",
       " 'Sci-Fi': 3.1654460532512894,\n",
       " 'Thriller': 3.136692475563836,\n",
       " 'War': 3.489185428943569,\n",
       " 'Western': 3.185617473056144}"
      ]
     },
     "execution_count": 33,
     "metadata": {},
     "output_type": "execute_result"
    }
   ],
   "source": [
    "genre_rating = {}\n",
    "for i in list(genre_dict):\n",
    "    \n",
    "    rating = []\n",
    "    \n",
    "    for j in range(len(genre_dict[i])):\n",
    "        indice = item_id_list.index(genre_dict[i][j])\n",
    "        rating.append(averageitem_rat[indice])\n",
    "        \n",
    "    average = sum(rating)/len(genre_dict[i])\n",
    "    genre_rating[i] = average    \n",
    "\n",
    "print(f\"Média de avaliação por gênero:\\n\")\n",
    "genre_rating"
   ]
  },
  {
   "cell_type": "markdown",
   "id": "f4de3ed3-341b-48a3-99e0-2e83f7829374",
   "metadata": {},
   "source": [
    "5. Avaliação média de filmes por ano.\n",
    "\n",
    "* Listar qual o ano com a melhor média de avaliação de filmes;\n"
   ]
  },
  {
   "cell_type": "code",
   "execution_count": 34,
   "id": "7f3211b7-b4bc-4b65-be8b-0208d01722a0",
   "metadata": {},
   "outputs": [
    {
     "data": {
      "text/plain": [
       "72"
      ]
     },
     "execution_count": 34,
     "metadata": {},
     "output_type": "execute_result"
    }
   ],
   "source": [
    "items_year = []\n",
    "\n",
    "for i in range(len(items_split)):\n",
    "    year = items_split[i][2][-4:]\n",
    "    \n",
    "    if year not in items_year:\n",
    "        items_year.append(year)\n",
    "\n",
    "len(items_year)"
   ]
  },
  {
   "cell_type": "code",
   "execution_count": 35,
   "id": "ab65cc89-6520-436c-8d38-7a130b19d99a",
   "metadata": {},
   "outputs": [
    {
     "data": {
      "text/plain": [
       "['1995', '1996', '1994', '1967', '1977']"
      ]
     },
     "execution_count": 35,
     "metadata": {},
     "output_type": "execute_result"
    }
   ],
   "source": [
    "items_year[:5]"
   ]
  },
  {
   "cell_type": "code",
   "execution_count": 36,
   "id": "1e674139-7c3f-447d-a1ab-9f555f8a5335",
   "metadata": {},
   "outputs": [
    {
     "data": {
      "text/plain": [
       "72"
      ]
     },
     "execution_count": 36,
     "metadata": {},
     "output_type": "execute_result"
    }
   ],
   "source": [
    "year_movies_dict = {}\n",
    "\n",
    "for i in items_year:\n",
    "    \n",
    "    item_ids = []\n",
    "    \n",
    "    for j in range(len(items_split)):\n",
    "        \n",
    "        if i == items_split[j][2][-4:]:\n",
    "            item_ids.append(items_split[j][0])\n",
    "    \n",
    "    year_movies_dict[i] = item_ids\n",
    "\n",
    "len(year_movies_dict)"
   ]
  },
  {
   "cell_type": "code",
   "execution_count": 37,
   "id": "f251dda3-8cfd-4678-9b72-f35c091116a9",
   "metadata": {},
   "outputs": [
    {
     "name": "stdout",
     "output_type": "stream",
     "text": [
      "Média de avaliação por Ano:\n",
      "\n"
     ]
    },
    {
     "data": {
      "text/plain": [
       "{'1995': 2.8956124193423003,\n",
       " '1996': 3.0029384768145264,\n",
       " '1994': 2.9708525803963046,\n",
       " '1967': 3.5728246053156254,\n",
       " '1977': 3.289299644093413,\n",
       " '1993': 3.0665570372820903,\n",
       " '1965': 3.172621178054116,\n",
       " '1982': 3.1720283700566445,\n",
       " '1990': 3.0265673522903254,\n",
       " '1992': 2.7890930377019014,\n",
       " '1991': 3.2768891589518927,\n",
       " '1937': 3.8390902872777017,\n",
       " '1997': 2.979972332144202,\n",
       " '1981': 3.292574634555219,\n",
       " '1970': 3.6782993492254867,\n",
       " '1972': 3.9331062064112907,\n",
       " '1961': 3.6907354001441965,\n",
       " '1939': 4.009120473837144,\n",
       " '1941': 3.783801835963024,\n",
       " '1968': 3.2104025900900903,\n",
       " '1969': 3.6551877351647852,\n",
       " '1954': 3.858219421413629,\n",
       " '1971': 3.282524227404472,\n",
       " '1988': 3.0595726633431344,\n",
       " '1973': 2.9647260736092838,\n",
       " '1979': 3.5940914516937537,\n",
       " '1987': 3.0726388268254543,\n",
       " '1986': 3.3210982454498965,\n",
       " '1989': 3.5805240696181593,\n",
       " '1974': 3.195148510949858,\n",
       " '1980': 3.2635161270962536,\n",
       " '1985': 3.8519391185189096,\n",
       " '1966': 3.8056569343065694,\n",
       " '1957': 3.939611851689977,\n",
       " '1960': 3.537381199305886,\n",
       " '1984': 3.670043675743851,\n",
       " '1983': 2.896036824977157,\n",
       " '1975': 3.521517094017094,\n",
       " '': 3.4444444444444446,\n",
       " '1998': 3.0421730891872882,\n",
       " '1940': 3.8790317833536325,\n",
       " '1950': 3.2065567876199106,\n",
       " '1964': 3.770359550561798,\n",
       " '1951': 3.8610696106983213,\n",
       " '1962': 4.061249822888212,\n",
       " '1933': 2.5,\n",
       " '1956': 3.060483970972654,\n",
       " '1963': 3.8726859618234712,\n",
       " '1958': 3.176050238540726,\n",
       " '1945': 3.4265151515151517,\n",
       " '1976': 2.46736239399341,\n",
       " '1978': 3.2755944931163956,\n",
       " '1959': 3.7749840906019103,\n",
       " '1942': 4.033950617283951,\n",
       " '1953': 3.8848039215686274,\n",
       " '1946': 3.052798799374142,\n",
       " '1955': 3.652032871083718,\n",
       " '1938': 3.895750361576601,\n",
       " '1934': 3.8072530864197534,\n",
       " '1949': 3.201388888888889,\n",
       " '1948': 3.3666666666666667,\n",
       " '1943': 2.875,\n",
       " '1944': 3.7948738841024956,\n",
       " '1936': 3.601851851851852,\n",
       " '1935': 3.4267905393550198,\n",
       " '1930': 3.7777777777777777,\n",
       " '1952': 4.041608067822797,\n",
       " '1931': 4.0,\n",
       " '1922': 3.5555555555555554,\n",
       " '1947': 3.1802325581395348,\n",
       " '1932': 3.8333333333333335,\n",
       " '1926': 3.0}"
      ]
     },
     "execution_count": 37,
     "metadata": {},
     "output_type": "execute_result"
    }
   ],
   "source": [
    "year_rating = {}\n",
    "\n",
    "for i in list(year_movies_dict.keys()):\n",
    "    \n",
    "    rating = []\n",
    "    \n",
    "    for j in range(len(year_movies_dict[i])):\n",
    "        indice = item_id_list.index(year_movies_dict[i][j])\n",
    "        rating.append(averageitem_rat[indice])\n",
    "        \n",
    "    average = sum(rating)/len(year_movies_dict[i])\n",
    "    year_rating[i] = average    \n",
    "\n",
    "print(f\"Média de avaliação por Ano:\\n\")\n",
    "year_rating"
   ]
  },
  {
   "cell_type": "code",
   "execution_count": 38,
   "id": "b42656e6-5556-448f-b19a-d5850a87cd6d",
   "metadata": {},
   "outputs": [
    {
     "name": "stdout",
     "output_type": "stream",
     "text": [
      "Ano com melhor avaliação (nota = 4.061249822888212): 1962\n"
     ]
    }
   ],
   "source": [
    "max_rat = 0\n",
    "for i in list(year_rating.keys()):\n",
    "    aux = year_rating[i]\n",
    "    \n",
    "    if aux > max_rat:\n",
    "        max_rat = aux\n",
    "        key = i\n",
    "\n",
    "print(f\"Ano com melhor avaliação (nota = {max_rat}): {key}\")"
   ]
  },
  {
   "cell_type": "markdown",
   "id": "65ea997e-382b-4608-be9e-3d616d8fdd42",
   "metadata": {},
   "source": [
    "6. Qual a ocupação mais propensa a dar más avaliações a filmes;\n",
    "\n",
    "* Encontrar a média de avaliação para cada ocupação de usuário e mostrar os menores e maiores valores\n"
   ]
  },
  {
   "cell_type": "code",
   "execution_count": 39,
   "id": "804548e7-3a93-441d-a265-86241f3ff5fe",
   "metadata": {},
   "outputs": [],
   "source": [
    "f3 = open('u.user', 'r')"
   ]
  },
  {
   "cell_type": "code",
   "execution_count": 40,
   "id": "f78c5680-58f7-4586-9e4c-58ba0af7c9bb",
   "metadata": {},
   "outputs": [],
   "source": [
    "user_data = f3.readlines()"
   ]
  },
  {
   "cell_type": "code",
   "execution_count": 41,
   "id": "4e48d91f-5919-4876-8aba-8e944203f7e9",
   "metadata": {},
   "outputs": [
    {
     "data": {
      "text/plain": [
       "943"
      ]
     },
     "execution_count": 41,
     "metadata": {},
     "output_type": "execute_result"
    }
   ],
   "source": [
    "user_data_list=[]\n",
    "\n",
    "for i in range(len(user_data)):\n",
    "    aux = user_data[i].replace(\"\\n\",\"\")\n",
    "    user_data_list.append(aux.split(\"|\"))\n",
    "\n",
    "len(user_data_list)"
   ]
  },
  {
   "cell_type": "code",
   "execution_count": 42,
   "id": "1dee1776-a2af-4d90-a94d-78190bbac04d",
   "metadata": {},
   "outputs": [
    {
     "data": {
      "text/plain": [
       "'technician'"
      ]
     },
     "execution_count": 42,
     "metadata": {},
     "output_type": "execute_result"
    }
   ],
   "source": [
    "user_data_list[0][3]"
   ]
  },
  {
   "cell_type": "code",
   "execution_count": 43,
   "id": "b44406d4-b3e8-4993-8b92-38ddbd240cc0",
   "metadata": {},
   "outputs": [],
   "source": [
    "f4 = open('u.occupation', 'r')"
   ]
  },
  {
   "cell_type": "code",
   "execution_count": 44,
   "id": "ad965cf3-d257-4bb8-b995-81747b7e09da",
   "metadata": {
    "tags": []
   },
   "outputs": [],
   "source": [
    "occ = f4.readlines()"
   ]
  },
  {
   "cell_type": "code",
   "execution_count": 45,
   "id": "36be2102-f0b2-438d-8636-014a4d2124d4",
   "metadata": {},
   "outputs": [
    {
     "data": {
      "text/plain": [
       "['administrator\\n',\n",
       " 'artist\\n',\n",
       " 'doctor\\n',\n",
       " 'educator\\n',\n",
       " 'engineer\\n',\n",
       " 'entertainment\\n',\n",
       " 'executive\\n',\n",
       " 'healthcare\\n',\n",
       " 'homemaker\\n',\n",
       " 'lawyer\\n',\n",
       " 'librarian\\n',\n",
       " 'marketing\\n',\n",
       " 'none\\n',\n",
       " 'other\\n',\n",
       " 'programmer\\n',\n",
       " 'retired\\n',\n",
       " 'salesman\\n',\n",
       " 'scientist\\n',\n",
       " 'student\\n',\n",
       " 'technician\\n',\n",
       " 'writer\\n']"
      ]
     },
     "execution_count": 45,
     "metadata": {},
     "output_type": "execute_result"
    }
   ],
   "source": [
    "occ"
   ]
  },
  {
   "cell_type": "code",
   "execution_count": 46,
   "id": "588ec20e-041a-4daf-98a9-c80ce000350e",
   "metadata": {},
   "outputs": [
    {
     "data": {
      "text/plain": [
       "['administrator',\n",
       " 'artist',\n",
       " 'doctor',\n",
       " 'educator',\n",
       " 'engineer',\n",
       " 'entertainment',\n",
       " 'executive',\n",
       " 'healthcare',\n",
       " 'homemaker',\n",
       " 'lawyer',\n",
       " 'librarian',\n",
       " 'marketing',\n",
       " 'none',\n",
       " 'other',\n",
       " 'programmer',\n",
       " 'retired',\n",
       " 'salesman',\n",
       " 'scientist',\n",
       " 'student',\n",
       " 'technician',\n",
       " 'writer']"
      ]
     },
     "execution_count": 46,
     "metadata": {},
     "output_type": "execute_result"
    }
   ],
   "source": [
    "for i in range(len(occ)):\n",
    "    occ[i]= occ[i].replace(\"\\n\",\"\")\n",
    "occ"
   ]
  },
  {
   "cell_type": "code",
   "execution_count": 47,
   "id": "81dc2ab3-3982-45a9-b690-c3f7a9a7b9e3",
   "metadata": {},
   "outputs": [
    {
     "data": {
      "text/plain": [
       "21"
      ]
     },
     "execution_count": 47,
     "metadata": {},
     "output_type": "execute_result"
    }
   ],
   "source": [
    "len(occ)"
   ]
  },
  {
   "cell_type": "code",
   "execution_count": 48,
   "id": "c498f4f5-0b22-4b33-9ccf-44fb5aed7c14",
   "metadata": {},
   "outputs": [
    {
     "data": {
      "text/plain": [
       "21"
      ]
     },
     "execution_count": 48,
     "metadata": {},
     "output_type": "execute_result"
    }
   ],
   "source": [
    "occ_user_dict = {}\n",
    "\n",
    "for i in occ:\n",
    "    \n",
    "    occ_ids = []\n",
    "    \n",
    "    for j in range(len(user_data_list)):\n",
    "        \n",
    "        if i == user_data_list[j][3]:\n",
    "            occ_ids.append(user_data_list[j][0])\n",
    "    \n",
    "    occ_user_dict[i] = occ_ids\n",
    "\n",
    "len(occ_user_dict)"
   ]
  },
  {
   "cell_type": "code",
   "execution_count": 49,
   "id": "78ebfbfb-032d-45e3-b50b-832fdac15a9e",
   "metadata": {},
   "outputs": [
    {
     "data": {
      "text/plain": [
       "943"
      ]
     },
     "execution_count": 49,
     "metadata": {},
     "output_type": "execute_result"
    }
   ],
   "source": [
    "len(average_rat)"
   ]
  },
  {
   "cell_type": "code",
   "execution_count": 50,
   "id": "7ed0a857-300f-4575-bae1-029888ffe11d",
   "metadata": {},
   "outputs": [
    {
     "name": "stdout",
     "output_type": "stream",
     "text": [
      "Média de avaliação por ocupação:\n",
      "\n"
     ]
    },
    {
     "data": {
      "text/plain": [
       "{'administrator': 3.65332799264454,\n",
       " 'artist': 3.6198615111180383,\n",
       " 'doctor': 3.862103627826046,\n",
       " 'educator': 3.6666937682167275,\n",
       " 'engineer': 3.674218247442644,\n",
       " 'entertainment': 3.4359859326093622,\n",
       " 'executive': 3.5291898362789946,\n",
       " 'healthcare': 3.3316794813284916,\n",
       " 'homemaker': 3.338078231292517,\n",
       " 'lawyer': 3.597586769901408,\n",
       " 'librarian': 3.6093481569377572,\n",
       " 'marketing': 3.482501938150461,\n",
       " 'none': 3.618919792371563,\n",
       " 'other': 3.5561741207982815,\n",
       " 'programmer': 3.6366428499589047,\n",
       " 'retired': 3.479090815443741,\n",
       " 'salesman': 3.520401096048508,\n",
       " 'scientist': 3.5656186090703885,\n",
       " 'student': 3.575968835372078,\n",
       " 'technician': 3.588616129360036,\n",
       " 'writer': 3.503290184448526}"
      ]
     },
     "execution_count": 50,
     "metadata": {},
     "output_type": "execute_result"
    }
   ],
   "source": [
    "occ_rating = {}\n",
    "\n",
    "for i in list(occ_user_dict.keys()):\n",
    "    \n",
    "    rating = []\n",
    "    \n",
    "    for j in range(len(occ_user_dict[i])):\n",
    "        indice = users_id_list.index(occ_user_dict[i][j])\n",
    "        rating.append(average_rat[indice])\n",
    "        \n",
    "    average = sum(rating)/len(occ_user_dict[i])\n",
    "    occ_rating[i] = average    \n",
    "\n",
    "print(f\"Média de avaliação por ocupação:\\n\")\n",
    "occ_rating"
   ]
  },
  {
   "cell_type": "code",
   "execution_count": 51,
   "id": "5b5c92e9-9965-4849-95bb-e5a0299fb07b",
   "metadata": {},
   "outputs": [
    {
     "name": "stdout",
     "output_type": "stream",
     "text": [
      "Ocupação com maior média de avaliação (nota = 3.862103627826046): doctor\n"
     ]
    }
   ],
   "source": [
    "max_rat = 0\n",
    "\n",
    "for i in list(occ_user_dict.keys()):\n",
    "    aux = occ_rating[i]\n",
    "    \n",
    "    if aux > max_rat:\n",
    "        max_rat = aux\n",
    "        key = i\n",
    "\n",
    "print(f\"Ocupação com maior média de avaliação (nota = {max_rat}): {key}\")"
   ]
  },
  {
   "cell_type": "code",
   "execution_count": 52,
   "id": "aeb0bc86-42f0-4211-95f1-4c516c3b6795",
   "metadata": {},
   "outputs": [
    {
     "name": "stdout",
     "output_type": "stream",
     "text": [
      "Ocupação com menor média de avaliação (nota = 3.3316794813284916): healthcare\n"
     ]
    }
   ],
   "source": [
    "min_rat = 5\n",
    "\n",
    "for i in list(occ_user_dict.keys()):\n",
    "    aux = occ_rating[i]\n",
    "    \n",
    "    if aux < min_rat:\n",
    "        min_rat = aux\n",
    "        key = i\n",
    "\n",
    "print(f\"Ocupação com menor média de avaliação (nota = {min_rat}): {key}\")"
   ]
  },
  {
   "cell_type": "code",
   "execution_count": null,
   "id": "2a18421e-cbab-4fa6-9404-5592882e0530",
   "metadata": {},
   "outputs": [],
   "source": []
  },
  {
   "cell_type": "code",
   "execution_count": null,
   "id": "c8ff1683-634d-4375-b2ea-f89a90b3b24b",
   "metadata": {},
   "outputs": [],
   "source": []
  }
 ],
 "metadata": {
  "kernelspec": {
   "display_name": "Python 3",
   "language": "python",
   "name": "python3"
  },
  "language_info": {
   "codemirror_mode": {
    "name": "ipython",
    "version": 3
   },
   "file_extension": ".py",
   "mimetype": "text/x-python",
   "name": "python",
   "nbconvert_exporter": "python",
   "pygments_lexer": "ipython3",
   "version": "3.9.4"
  }
 },
 "nbformat": 4,
 "nbformat_minor": 5
}
